{
 "cells": [
  {
   "cell_type": "markdown",
   "metadata": {},
   "source": [
    "# Multi Agent RL\n",
    "\n",
    "---\n",
    "\n",
    "In this notebook, you will learn how to use the Unity ML-Agents environment for the third project of the [Deep Reinforcement Learning Nanodegree](https://www.udacity.com/course/deep-reinforcement-learning-nanodegree--nd893) program.\n",
    "\n",
    "### 1. Start the Environment\n",
    "\n",
    "We begin by importing the necessary packages.  If the code cell below returns an error, please revisit the project instructions to double-check that you have installed [Unity ML-Agents](https://github.com/Unity-Technologies/ml-agents/blob/master/docs/Installation.md) and [NumPy](http://www.numpy.org/)."
   ]
  },
  {
   "cell_type": "code",
   "execution_count": 1,
   "metadata": {},
   "outputs": [],
   "source": [
    "from unityagents import UnityEnvironment\n",
    "import torch"
   ]
  },
  {
   "cell_type": "markdown",
   "metadata": {},
   "source": [
    "Next, we will start the environment!  **_Before running the code cell below_**, change the `file_name` parameter to match the location of the Unity environment that you downloaded.\n",
    "\n",
    "- **Mac**: `\"path/to/Reacher.app\"`\n",
    "- **Windows** (x86): `\"path/to/Reacher_Windows_x86/Reacher.exe\"`\n",
    "- **Windows** (x86_64): `\"path/to/Reacher_Windows_x86_64/Reacher.exe\"`\n",
    "- **Linux** (x86): `\"path/to/Reacher_Linux/Reacher.x86\"`\n",
    "- **Linux** (x86_64): `\"path/to/Reacher_Linux/Reacher.x86_64\"`\n",
    "- **Linux** (x86, headless): `\"path/to/Reacher_Linux_NoVis/Reacher.x86\"`\n",
    "- **Linux** (x86_64, headless): `\"path/to/Reacher_Linux_NoVis/Reacher.x86_64\"`\n",
    "\n",
    "For instance, if you are using a Mac, then you downloaded `Reacher.app`.  If this file is in the same folder as the notebook, then the line below should appear as follows:\n",
    "```\n",
    "env = UnityEnvironment(file_name=\"Reacher.app\")\n",
    "```"
   ]
  },
  {
   "cell_type": "code",
   "execution_count": 2,
   "metadata": {},
   "outputs": [
    {
     "name": "stderr",
     "output_type": "stream",
     "text": [
      "INFO:unityagents:\n",
      "'Academy' started successfully!\n",
      "Unity Academy name: Academy\n",
      "        Number of Brains: 1\n",
      "        Number of External Brains : 1\n",
      "        Lesson number : 0\n",
      "        Reset Parameters :\n",
      "\t\t\n",
      "Unity brain name: TennisBrain\n",
      "        Number of Visual Observations (per agent): 0\n",
      "        Vector Observation space type: continuous\n",
      "        Vector Observation space size (per agent): 8\n",
      "        Number of stacked Vector Observation: 3\n",
      "        Vector Action space type: continuous\n",
      "        Vector Action space size (per agent): 2\n",
      "        Vector Action descriptions: , \n"
     ]
    }
   ],
   "source": [
    "env = UnityEnvironment(file_name=\"Tennis_Windows_x86_64/Tennis.exe\")"
   ]
  },
  {
   "cell_type": "markdown",
   "metadata": {},
   "source": [
    "Environments contain **_brains_** which are responsible for deciding the actions of their associated agents. Here we check for the first brain available, and set it as the default brain we will be controlling from Python."
   ]
  },
  {
   "cell_type": "code",
   "execution_count": 3,
   "metadata": {},
   "outputs": [],
   "source": [
    "# get the default brain\n",
    "brain_name = env.brain_names[0]\n",
    "brain = env.brains[brain_name]"
   ]
  },
  {
   "cell_type": "markdown",
   "metadata": {},
   "source": [
    "### 2. Examine the State and Action Spaces\n",
    "\n",
    "In this environment, a double-jointed arm can move to target locations. A reward of `+0.1` is provided for each step that the agent's hand is in the goal location. Thus, the goal of your agent is to maintain its position at the target location for as many time steps as possible.\n",
    "\n",
    "The observation space consists of `33` variables corresponding to position, rotation, velocity, and angular velocities of the arm.  Each action is a vector with four numbers, corresponding to torque applicable to two joints.  Every entry in the action vector must be a number between `-1` and `1`.\n",
    "\n",
    "Run the code cell below to print some information about the environment."
   ]
  },
  {
   "cell_type": "code",
   "execution_count": 4,
   "metadata": {},
   "outputs": [
    {
     "name": "stdout",
     "output_type": "stream",
     "text": [
      "Number of agents: 2\n",
      "Size of each action: 2\n",
      "There are 2 agents. Each observes a state with length: 24\n",
      "The state for the first agent looks like: [ 0.          0.          0.          0.          0.          0.\n",
      "  0.          0.          0.          0.          0.          0.\n",
      "  0.          0.          0.          0.         -6.65278625 -1.5\n",
      " -0.          0.          6.83172083  6.         -0.          0.        ]\n"
     ]
    }
   ],
   "source": [
    "# reset the environment\n",
    "env_info = env.reset(train_mode=True)[brain_name]\n",
    "\n",
    "# number of agents\n",
    "num_agents = len(env_info.agents)\n",
    "print('Number of agents:', num_agents)\n",
    "\n",
    "# size of each action\n",
    "action_size = brain.vector_action_space_size\n",
    "print('Size of each action:', action_size)\n",
    "\n",
    "# examine the state space \n",
    "states = env_info.vector_observations\n",
    "state_size = states.shape[1]\n",
    "\n",
    "print('There are {} agents. Each observes a state with length: {}'.format(states.shape[0], state_size))\n",
    "print('The state for the first agent looks like:', states[0])"
   ]
  },
  {
   "cell_type": "markdown",
   "metadata": {},
   "source": [
    "### 4. Reinforcement Learning Algorithm\n",
    "\n",
    "The algorityhm used is the DDPG Agent as described by the [DDPG Paper](https://arxiv.org/pdf/1509.02971) and the code provided on [Udacity's DRLND Github Repository](https://github.com/udacity/deep-reinforcement-learning#dependencies). The Agent combined a policy based and values based approach, known as Actor-Critic method.\n",
    "\n",
    "This algorithm uses an Actor-Critic approach, which the Critic is used to approximate the maximizer over the \"Q-values\" of the next state and not a learned baseliner (such as A2C). The Actor learns a deterministic policy to select the best action given the states. the algorithm has two interesting aspects:\n",
    "- **Soft Updates**: Instead of updating the target/regular networks weights every `C` timesteps, weights are gradually mixed (generally 0.01-0.001%) at every timestep.\n",
    "- **Replay  Buffer**: Samples thes sequences of S.A.R.S' randomly, therefore reducing the high correlations between these sequences.\n",
    "\n",
    "\n",
    "All these logic are implemented on the files `model.py` and `ddpg_agent.py`.\n",
    "Some hyperparameters are also listed on the file `ddpg_agent.py`"
   ]
  },
  {
   "cell_type": "markdown",
   "metadata": {},
   "source": [
    "### 3. DDPG Agent\n",
    "\n",
    "The next cell implements the DDPG Agent on the Unity Environment."
   ]
  },
  {
   "cell_type": "code",
   "execution_count": 5,
   "metadata": {},
   "outputs": [],
   "source": [
    "# Hyperparameters\n",
    "PARAMETERS = {\n",
    "    'BUFFER_SIZE': int(1e6),          # Replay buffer size\n",
    "    'BATCH_SIZE': 128,                # Minibatch size\n",
    "    'GAMMA': 1.0,                     # Discount factor\n",
    "    'TAU': 1e-3,                      # Soft update of target parameters\n",
    "    'UPDATE_EVERY': 10,               # Wait for more experiences before update\n",
    "    \n",
    "    'N_AGENTS': 2,                    # Total number of agents\n",
    "    'STATE_SIZE': 24,                 # Size of the state for each agent\n",
    "    'ACTION_SIZE': 2,                 # Size of actions for each agent\n",
    "\n",
    "    'ACTOR_LR': 1e-3,                 # Learning rate of the actor\n",
    "    'ACTOR_WEIGHT_DECAY': 0.0,        # Actor L2 weight decay\n",
    "    'ACTOR_GRADIENT_CLIP_VALUE': 10,  # Max gradient modulus for clipping\n",
    "\n",
    "    'CRITIC_LR': 1e-3,                # Learning rate of the critic\n",
    "    'CRITIC_WEIGHT_DECAY': 0.0,       # Critic L2 weight decay\n",
    "    'CRITIC_GRADIENT_CLIP_VALUE': 2,  # Max gradient modulus for clipping\n",
    "    \n",
    "    \n",
    "    'NOISE_TYPE': 'normal',           # Type of noise used: 'normal' or 'ou'\n",
    "    'N_SIGMA': .4,                    # Normal noise sigma parameters\n",
    "    \n",
    "    'OU_THETA': .8,                   # OU noise theta parameter\n",
    "    'OU_SIGMA': .6,                   # OU noise sigma parameters\n",
    "    \n",
    "    \n",
    "    'SEED': 42,                       # Random seed\n",
    "    'DEVICE': torch.device(\"cuda\" if torch.cuda.is_available() else \"cpu\"),\n",
    "}"
   ]
  },
  {
   "cell_type": "code",
   "execution_count": 6,
   "metadata": {},
   "outputs": [],
   "source": [
    "# Load and define agent\n",
    "from maddpg import MADDPG\n",
    "\n",
    "agent = MADDPG(PARAMETERS)"
   ]
  },
  {
   "cell_type": "code",
   "execution_count": 9,
   "metadata": {},
   "outputs": [],
   "source": [
    "# Hyperparameters\n",
    "N_EPISODES = 5000\n",
    "MAX_T = 1000\n",
    "SUCCESS_SCORE = .5"
   ]
  },
  {
   "cell_type": "code",
   "execution_count": 10,
   "metadata": {},
   "outputs": [
    {
     "name": "stdout",
     "output_type": "stream",
     "text": [
      "Episode 100/5000\tAverage Score (last 100): 0.0217\t Last score: 0.0000\n",
      "Episode 200/5000\tAverage Score (last 100): 0.0221\t Last score: 0.0000\n",
      "Episode 300/5000\tAverage Score (last 100): 0.0233\t Last score: 0.0000\n",
      "Episode 400/5000\tAverage Score (last 100): 0.0182\t Last score: 0.0000\n",
      "Episode 500/5000\tAverage Score (last 100): 0.0210\t Last score: 0.0000\n",
      "Episode 600/5000\tAverage Score (last 100): 0.0348\t Last score: 0.1000\n",
      "Episode 700/5000\tAverage Score (last 100): 0.0326\t Last score: 0.0000\n",
      "Episode 800/5000\tAverage Score (last 100): 0.0221\t Last score: 0.0000\n",
      "Episode 900/5000\tAverage Score (last 100): 0.0193\t Last score: 0.0000\n",
      "Episode 1000/5000\tAverage Score (last 100): 0.0207\t Last score: 0.0000\n",
      "Episode 1100/5000\tAverage Score (last 100): 0.0214\t Last score: 0.0000\n",
      "Episode 1200/5000\tAverage Score (last 100): 0.0263\t Last score: 0.0000\n",
      "Episode 1300/5000\tAverage Score (last 100): 0.0242\t Last score: 0.0000\n",
      "Episode 1400/5000\tAverage Score (last 100): 0.0237\t Last score: 0.0000\n",
      "Episode 1500/5000\tAverage Score (last 100): 0.0244\t Last score: 0.0000\n",
      "Episode 1600/5000\tAverage Score (last 100): 0.0200\t Last score: 0.0000\n",
      "Episode 1700/5000\tAverage Score (last 100): 0.0267\t Last score: 0.0000\n",
      "Episode 1800/5000\tAverage Score (last 100): 0.0316\t Last score: 0.0000\n",
      "Episode 1900/5000\tAverage Score (last 100): 0.0232\t Last score: 0.0000\n",
      "Episode 2000/5000\tAverage Score (last 100): 0.0210\t Last score: 0.0000\n",
      "Episode 2100/5000\tAverage Score (last 100): 0.0096\t Last score: 0.0000\n",
      "Episode 2200/5000\tAverage Score (last 100): 0.0280\t Last score: 0.0900\n",
      "Episode 2300/5000\tAverage Score (last 100): 0.0288\t Last score: 0.0900\n",
      "Episode 2400/5000\tAverage Score (last 100): 0.0294\t Last score: 0.0000\n",
      "Episode 2500/5000\tAverage Score (last 100): 0.0210\t Last score: 0.0000\n",
      "Episode 2600/5000\tAverage Score (last 100): 0.0232\t Last score: 0.0000\n",
      "Episode 2700/5000\tAverage Score (last 100): 0.0315\t Last score: 0.0000\n",
      "Episode 2800/5000\tAverage Score (last 100): 0.0202\t Last score: 0.0000\n",
      "Episode 2900/5000\tAverage Score (last 100): 0.0210\t Last score: 0.0000\n",
      "Episode 3000/5000\tAverage Score (last 100): 0.0215\t Last score: 0.1000\n",
      "Episode 3100/5000\tAverage Score (last 100): 0.0223\t Last score: 0.0000\n",
      "Episode 3200/5000\tAverage Score (last 100): 0.0234\t Last score: 0.0000\n",
      "Episode 3300/5000\tAverage Score (last 100): 0.0200\t Last score: 0.0000\n",
      "Episode 3400/5000\tAverage Score (last 100): 0.0268\t Last score: 0.0000\n",
      "Episode 3500/5000\tAverage Score (last 100): 0.0243\t Last score: 0.0000\n",
      "Episode 3600/5000\tAverage Score (last 100): 0.0320\t Last score: 0.0000\n",
      "Episode 3700/5000\tAverage Score (last 100): 0.0356\t Last score: 0.0000\n",
      "Episode 3800/5000\tAverage Score (last 100): 0.0203\t Last score: 0.0000\n",
      "Episode 3900/5000\tAverage Score (last 100): 0.0242\t Last score: 0.0000\n",
      "Episode 4000/5000\tAverage Score (last 100): 0.0186\t Last score: 0.0000\n",
      "Episode 4100/5000\tAverage Score (last 100): 0.0203\t Last score: 0.0000\n",
      "Episode 4200/5000\tAverage Score (last 100): 0.0298\t Last score: 0.1000\n",
      "Episode 4300/5000\tAverage Score (last 100): 0.0229\t Last score: 0.0000\n",
      "Episode 4400/5000\tAverage Score (last 100): 0.0190\t Last score: 0.0000\n",
      "Episode 4500/5000\tAverage Score (last 100): 0.0212\t Last score: 0.0000\n",
      "Episode 4600/5000\tAverage Score (last 100): 0.0190\t Last score: 0.0000\n",
      "Episode 4700/5000\tAverage Score (last 100): 0.0176\t Last score: 0.1000\n",
      "Episode 4800/5000\tAverage Score (last 100): 0.0204\t Last score: 0.1000\n",
      "Episode 4900/5000\tAverage Score (last 100): 0.0293\t Last score: 0.0000\n",
      "Episode 5000/5000\tAverage Score (last 100): 0.0181\t Last score: 0.0000\n"
     ]
    }
   ],
   "source": [
    "from utilities import train_MADDPG\n",
    "\n",
    "scores = train_MADDPG(env, agent, n_episodes=N_EPISODES, max_t=MAX_T,\n",
    "                      success_score=SUCCESS_SCORE, print_every=100)"
   ]
  },
  {
   "cell_type": "markdown",
   "metadata": {},
   "source": [
    "### 5. Rewards"
   ]
  },
  {
   "cell_type": "code",
   "execution_count": 12,
   "metadata": {},
   "outputs": [
    {
     "data": {
      "text/plain": [
       "<matplotlib.axes._subplots.AxesSubplot at 0x21393126c50>"
      ]
     },
     "execution_count": 12,
     "metadata": {},
     "output_type": "execute_result"
    },
    {
     "data": {
      "image/png": "[encoded data removed]",
      "text/plain": [
       "<Figure size 432x288 with 1 Axes>"
      ]
     },
     "metadata": {
      "needs_background": "light"
     },
     "output_type": "display_data"
    }
   ],
   "source": [
    "import matplotlib.pyplot as plt\n",
    "\n",
    "# Plot rewards\n",
    "fig = plt.figure()\n",
    "ax = fig.add_subplot(111)\n",
    "plt.plot(scores)\n",
    "plt.ylabel('Score')\n",
    "plt.xlabel('Episode #')\n",
    "ax"
   ]
  },
  {
   "cell_type": "markdown",
   "metadata": {},
   "source": [
    "### 6. Check the Trained Agent"
   ]
  },
  {
   "cell_type": "code",
   "execution_count": 25,
   "metadata": {},
   "outputs": [
    {
     "name": "stdout",
     "output_type": "stream",
     "text": [
      "Score: [3.53699992]\n"
     ]
    }
   ],
   "source": [
    "# load the weights from file\n",
    "agent.actor_local.load_state_dict(torch.load('solved_checkpoint_actor.pth'))\n",
    "agent.critic_local.load_state_dict(torch.load('solved_checkpoint_critic.pth'))\n",
    "\n",
    "# Use the trained agent for 1 episodes\n",
    "for i in range(1):\n",
    "    env_info = env.reset(train_mode=False)[brain_name] # reset the environment\n",
    "    states = env_info.vector_observations            # get the current state\n",
    "    score = 0    \n",
    "    while True:\n",
    "        actions = agent.act(states)\n",
    "        env_info = env.step(actions)[brain_name]                 # perform actions\n",
    "        next_states = env_info.vector_observations               # get the next states\n",
    "        rewards = np.array(env_info.rewards).reshape(-1, 1)      # get the rewards\n",
    "        dones = np.array(env_info.local_done).reshape(-1, 1)     # see if episode has finished\n",
    "        agent.step(states, actions, rewards, next_states, dones)\n",
    "        states = next_states\n",
    "        score += sum(rewards)\n",
    "        if dones.any():\n",
    "            break"
   ]
  },
  {
   "cell_type": "markdown",
   "metadata": {},
   "source": [
    "When finished, you can close the environment."
   ]
  },
  {
   "cell_type": "code",
   "execution_count": null,
   "metadata": {},
   "outputs": [],
   "source": [
    "env.close()"
   ]
  },
  {
   "cell_type": "markdown",
   "metadata": {},
   "source": [
    "### 7. Future Improvements\n",
    "\n",
    "Implement these methods to improve learning performance:\n",
    "\n",
    "- Extract some improvements from the [Rainbow](https://arxiv.org/pdf/1710.02298.pdf) architecture such as:\n",
    "    - Prioritized Experience\n",
    "    - Multi-step learning\n",
    "    - Noisy Nets"
   ]
  }
 ],
 "metadata": {
  "kernelspec": {
   "display_name": "Python 3",
   "language": "python",
   "name": "python3"
  },
  "language_info": {
   "codemirror_mode": {
    "name": "ipython",
    "version": 3
   },
   "file_extension": ".py",
   "mimetype": "text/x-python",
   "name": "python",
   "nbconvert_exporter": "python",
   "pygments_lexer": "ipython3",
   "version": "3.6.9"
  }
 },
 "nbformat": 4,
 "nbformat_minor": 4
}
