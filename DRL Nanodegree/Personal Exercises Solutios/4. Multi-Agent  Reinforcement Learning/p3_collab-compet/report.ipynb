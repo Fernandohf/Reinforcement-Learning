{
 "cells": [
  {
   "cell_type": "markdown",
   "metadata": {},
   "source": [
    "# Multi Agent RL\n",
    "\n",
    "---\n",
    "\n",
    "In this notebook, you will learn how to use the Unity ML-Agents environment for the third project of the [Deep Reinforcement Learning Nanodegree](https://www.udacity.com/course/deep-reinforcement-learning-nanodegree--nd893) program.\n",
    "\n",
    "### 1. Start the Environment\n",
    "\n",
    "We begin by importing the necessary packages.  If the code cell below returns an error, please revisit the project instructions to double-check that you have installed [Unity ML-Agents](https://github.com/Unity-Technologies/ml-agents/blob/master/docs/Installation.md) and [NumPy](http://www.numpy.org/)."
   ]
  },
  {
   "cell_type": "code",
   "execution_count": 1,
   "metadata": {},
   "outputs": [],
   "source": [
    "from unityagents import UnityEnvironment\n",
    "import numpy as np\n",
    "from collections import deque\n",
    "from itertools import islice\n",
    "from copy import copy\n",
    "import torch"
   ]
  },
  {
   "cell_type": "markdown",
   "metadata": {},
   "source": [
    "Next, we will start the environment!  **_Before running the code cell below_**, change the `file_name` parameter to match the location of the Unity environment that you downloaded.\n",
    "\n",
    "- **Mac**: `\"path/to/Reacher.app\"`\n",
    "- **Windows** (x86): `\"path/to/Reacher_Windows_x86/Reacher.exe\"`\n",
    "- **Windows** (x86_64): `\"path/to/Reacher_Windows_x86_64/Reacher.exe\"`\n",
    "- **Linux** (x86): `\"path/to/Reacher_Linux/Reacher.x86\"`\n",
    "- **Linux** (x86_64): `\"path/to/Reacher_Linux/Reacher.x86_64\"`\n",
    "- **Linux** (x86, headless): `\"path/to/Reacher_Linux_NoVis/Reacher.x86\"`\n",
    "- **Linux** (x86_64, headless): `\"path/to/Reacher_Linux_NoVis/Reacher.x86_64\"`\n",
    "\n",
    "For instance, if you are using a Mac, then you downloaded `Reacher.app`.  If this file is in the same folder as the notebook, then the line below should appear as follows:\n",
    "```\n",
    "env = UnityEnvironment(file_name=\"Reacher.app\")\n",
    "```"
   ]
  },
  {
   "cell_type": "code",
   "execution_count": 2,
   "metadata": {},
   "outputs": [
    {
     "name": "stderr",
     "output_type": "stream",
     "text": [
      "INFO:unityagents:\n",
      "'Academy' started successfully!\n",
      "Unity Academy name: Academy\n",
      "        Number of Brains: 1\n",
      "        Number of External Brains : 1\n",
      "        Lesson number : 0\n",
      "        Reset Parameters :\n",
      "\t\t\n",
      "Unity brain name: TennisBrain\n",
      "        Number of Visual Observations (per agent): 0\n",
      "        Vector Observation space type: continuous\n",
      "        Vector Observation space size (per agent): 8\n",
      "        Number of stacked Vector Observation: 3\n",
      "        Vector Action space type: continuous\n",
      "        Vector Action space size (per agent): 2\n",
      "        Vector Action descriptions: , \n"
     ]
    }
   ],
   "source": [
    "env = UnityEnvironment(file_name=\"Tennis_Windows_x86_64/Tennis.exe\")"
   ]
  },
  {
   "cell_type": "markdown",
   "metadata": {},
   "source": [
    "Environments contain **_brains_** which are responsible for deciding the actions of their associated agents. Here we check for the first brain available, and set it as the default brain we will be controlling from Python."
   ]
  },
  {
   "cell_type": "code",
   "execution_count": 3,
   "metadata": {},
   "outputs": [],
   "source": [
    "# get the default brain\n",
    "brain_name = env.brain_names[0]\n",
    "brain = env.brains[brain_name]"
   ]
  },
  {
   "cell_type": "markdown",
   "metadata": {},
   "source": [
    "### 2. Examine the State and Action Spaces\n",
    "\n",
    "In this environment, a double-jointed arm can move to target locations. A reward of `+0.1` is provided for each step that the agent's hand is in the goal location. Thus, the goal of your agent is to maintain its position at the target location for as many time steps as possible.\n",
    "\n",
    "The observation space consists of `33` variables corresponding to position, rotation, velocity, and angular velocities of the arm.  Each action is a vector with four numbers, corresponding to torque applicable to two joints.  Every entry in the action vector must be a number between `-1` and `1`.\n",
    "\n",
    "Run the code cell below to print some information about the environment."
   ]
  },
  {
   "cell_type": "code",
   "execution_count": 4,
   "metadata": {},
   "outputs": [
    {
     "name": "stdout",
     "output_type": "stream",
     "text": [
      "Number of agents: 2\n",
      "Size of each action: 2\n",
      "There are 2 agents. Each observes a state with length: 24\n",
      "The state for the first agent looks like: [ 0.          0.          0.          0.          0.          0.\n",
      "  0.          0.          0.          0.          0.          0.\n",
      "  0.          0.          0.          0.         -6.65278625 -1.5\n",
      " -0.          0.          6.83172083  6.         -0.          0.        ]\n"
     ]
    }
   ],
   "source": [
    "# reset the environment\n",
    "env_info = env.reset(train_mode=True)[brain_name]\n",
    "\n",
    "# number of agents\n",
    "num_agents = len(env_info.agents)\n",
    "print('Number of agents:', num_agents)\n",
    "\n",
    "# size of each action\n",
    "action_size = brain.vector_action_space_size\n",
    "print('Size of each action:', action_size)\n",
    "\n",
    "# examine the state space \n",
    "states = env_info.vector_observations\n",
    "state_size = states.shape[1]\n",
    "\n",
    "print('There are {} agents. Each observes a state with length: {}'.format(states.shape[0], state_size))\n",
    "print('The state for the first agent looks like:', states[0])"
   ]
  },
  {
   "cell_type": "markdown",
   "metadata": {},
   "source": [
    "### 3. DDPG Agent\n",
    "\n",
    "The next cell implements the DDPG Agent on the Unity Environment."
   ]
  },
  {
   "cell_type": "code",
   "execution_count": 5,
   "metadata": {},
   "outputs": [
    {
     "ename": "ModuleNotFoundError",
     "evalue": "No module named 'ddpg_agent'",
     "output_type": "error",
     "traceback": [
      "\u001b[1;31m---------------------------------------------------------------------------\u001b[0m",
      "\u001b[1;31mModuleNotFoundError\u001b[0m                       Traceback (most recent call last)",
      "\u001b[1;32m<ipython-input-5-25f821e5c9e8>\u001b[0m in \u001b[0;36m<module>\u001b[1;34m\u001b[0m\n\u001b[0;32m      1\u001b[0m \u001b[1;31m# Load and define agent\u001b[0m\u001b[1;33m\u001b[0m\u001b[1;33m\u001b[0m\u001b[1;33m\u001b[0m\u001b[0m\n\u001b[1;32m----> 2\u001b[1;33m \u001b[1;32mfrom\u001b[0m \u001b[0mddpg_agent\u001b[0m \u001b[1;32mimport\u001b[0m \u001b[0mDDPGAgent\u001b[0m\u001b[1;33m\u001b[0m\u001b[1;33m\u001b[0m\u001b[0m\n\u001b[0m\u001b[0;32m      3\u001b[0m \u001b[1;33m\u001b[0m\u001b[0m\n\u001b[0;32m      4\u001b[0m \u001b[0magent\u001b[0m \u001b[1;33m=\u001b[0m \u001b[0mDDPGAgent\u001b[0m\u001b[1;33m(\u001b[0m\u001b[0mstate_size\u001b[0m\u001b[1;33m=\u001b[0m\u001b[0mstate_size\u001b[0m\u001b[1;33m,\u001b[0m \u001b[0maction_size\u001b[0m\u001b[1;33m=\u001b[0m\u001b[0maction_size\u001b[0m\u001b[1;33m,\u001b[0m \u001b[0mrandom_seed\u001b[0m\u001b[1;33m=\u001b[0m\u001b[1;36m0\u001b[0m\u001b[1;33m)\u001b[0m\u001b[1;33m\u001b[0m\u001b[1;33m\u001b[0m\u001b[0m\n",
      "\u001b[1;31mModuleNotFoundError\u001b[0m: No module named 'ddpg_agent'"
     ]
    }
   ],
   "source": [
    "# Load and define agent\n",
    "from ddpg_agent import DDPGAgent\n",
    "\n",
    "agent = DDPGAgent(state_size=state_size, action_size=action_size, random_seed=0)"
   ]
  },
  {
   "cell_type": "markdown",
   "metadata": {},
   "source": [
    "### 4. Reinforcement Learning Algorithm\n",
    "\n",
    "The algorityhm used is the DDPG Agent as described by the [DDPG Paper](https://arxiv.org/pdf/1509.02971) and the code provided on [Udacity's DRLND Github Repository](https://github.com/udacity/deep-reinforcement-learning#dependencies). The Agent combined a policy based and values based approach, known as Actor-Critic method.\n",
    "\n",
    "This algorithm uses an Actor-Critic approach, which the Critic is used to approximate the maximizer over the \"Q-values\" of the next state and not a learned baseliner (such as A2C). The Actor learns a deterministic policy to select the best action given the states. the algorithm has two interesting aspects:\n",
    "- **Soft Updates**: Instead of updating the target/regular networks weights every `C` timesteps, weights are gradually mixed (generally 0.01-0.001%) at every timestep.\n",
    "- **Replay  Buffer**: Samples thes sequences of S.A.R.S' randomly, therefore reducing the high correlations between these sequences.\n",
    "\n",
    "\n",
    "All these logic are implemented on the files `model.py` and `ddpg_agent.py`.\n",
    "Some hyperparameters are also listed on the file `ddpg_agent.py`"
   ]
  },
  {
   "cell_type": "code",
   "execution_count": 23,
   "metadata": {},
   "outputs": [
    {
     "data": {
      "text/html": [
       "<style>.output_html .hll { background-color: #ffffcc }\n",
       ".output_html  { background: #f8f8f8; }\n",
       ".output_html .c { color: #408080; font-style: italic } /* Comment */\n",
       ".output_html .err { border: 1px solid #FF0000 } /* Error */\n",
       ".output_html .k { color: #008000; font-weight: bold } /* Keyword */\n",
       ".output_html .o { color: #666666 } /* Operator */\n",
       ".output_html .ch { color: #408080; font-style: italic } /* Comment.Hashbang */\n",
       ".output_html .cm { color: #408080; font-style: italic } /* Comment.Multiline */\n",
       ".output_html .cp { color: #BC7A00 } /* Comment.Preproc */\n",
       ".output_html .cpf { color: #408080; font-style: italic } /* Comment.PreprocFile */\n",
       ".output_html .c1 { color: #408080; font-style: italic } /* Comment.Single */\n",
       ".output_html .cs { color: #408080; font-style: italic } /* Comment.Special */\n",
       ".output_html .gd { color: #A00000 } /* Generic.Deleted */\n",
       ".output_html .ge { font-style: italic } /* Generic.Emph */\n",
       ".output_html .gr { color: #FF0000 } /* Generic.Error */\n",
       ".output_html .gh { color: #000080; font-weight: bold } /* Generic.Heading */\n",
       ".output_html .gi { color: #00A000 } /* Generic.Inserted */\n",
       ".output_html .go { color: #888888 } /* Generic.Output */\n",
       ".output_html .gp { color: #000080; font-weight: bold } /* Generic.Prompt */\n",
       ".output_html .gs { font-weight: bold } /* Generic.Strong */\n",
       ".output_html .gu { color: #800080; font-weight: bold } /* Generic.Subheading */\n",
       ".output_html .gt { color: #0044DD } /* Generic.Traceback */\n",
       ".output_html .kc { color: #008000; font-weight: bold } /* Keyword.Constant */\n",
       ".output_html .kd { color: #008000; font-weight: bold } /* Keyword.Declaration */\n",
       ".output_html .kn { color: #008000; font-weight: bold } /* Keyword.Namespace */\n",
       ".output_html .kp { color: #008000 } /* Keyword.Pseudo */\n",
       ".output_html .kr { color: #008000; font-weight: bold } /* Keyword.Reserved */\n",
       ".output_html .kt { color: #B00040 } /* Keyword.Type */\n",
       ".output_html .m { color: #666666 } /* Literal.Number */\n",
       ".output_html .s { color: #BA2121 } /* Literal.String */\n",
       ".output_html .na { color: #7D9029 } /* Name.Attribute */\n",
       ".output_html .nb { color: #008000 } /* Name.Builtin */\n",
       ".output_html .nc { color: #0000FF; font-weight: bold } /* Name.Class */\n",
       ".output_html .no { color: #880000 } /* Name.Constant */\n",
       ".output_html .nd { color: #AA22FF } /* Name.Decorator */\n",
       ".output_html .ni { color: #999999; font-weight: bold } /* Name.Entity */\n",
       ".output_html .ne { color: #D2413A; font-weight: bold } /* Name.Exception */\n",
       ".output_html .nf { color: #0000FF } /* Name.Function */\n",
       ".output_html .nl { color: #A0A000 } /* Name.Label */\n",
       ".output_html .nn { color: #0000FF; font-weight: bold } /* Name.Namespace */\n",
       ".output_html .nt { color: #008000; font-weight: bold } /* Name.Tag */\n",
       ".output_html .nv { color: #19177C } /* Name.Variable */\n",
       ".output_html .ow { color: #AA22FF; font-weight: bold } /* Operator.Word */\n",
       ".output_html .w { color: #bbbbbb } /* Text.Whitespace */\n",
       ".output_html .mb { color: #666666 } /* Literal.Number.Bin */\n",
       ".output_html .mf { color: #666666 } /* Literal.Number.Float */\n",
       ".output_html .mh { color: #666666 } /* Literal.Number.Hex */\n",
       ".output_html .mi { color: #666666 } /* Literal.Number.Integer */\n",
       ".output_html .mo { color: #666666 } /* Literal.Number.Oct */\n",
       ".output_html .sa { color: #BA2121 } /* Literal.String.Affix */\n",
       ".output_html .sb { color: #BA2121 } /* Literal.String.Backtick */\n",
       ".output_html .sc { color: #BA2121 } /* Literal.String.Char */\n",
       ".output_html .dl { color: #BA2121 } /* Literal.String.Delimiter */\n",
       ".output_html .sd { color: #BA2121; font-style: italic } /* Literal.String.Doc */\n",
       ".output_html .s2 { color: #BA2121 } /* Literal.String.Double */\n",
       ".output_html .se { color: #BB6622; font-weight: bold } /* Literal.String.Escape */\n",
       ".output_html .sh { color: #BA2121 } /* Literal.String.Heredoc */\n",
       ".output_html .si { color: #BB6688; font-weight: bold } /* Literal.String.Interpol */\n",
       ".output_html .sx { color: #008000 } /* Literal.String.Other */\n",
       ".output_html .sr { color: #BB6688 } /* Literal.String.Regex */\n",
       ".output_html .s1 { color: #BA2121 } /* Literal.String.Single */\n",
       ".output_html .ss { color: #19177C } /* Literal.String.Symbol */\n",
       ".output_html .bp { color: #008000 } /* Name.Builtin.Pseudo */\n",
       ".output_html .fm { color: #0000FF } /* Name.Function.Magic */\n",
       ".output_html .vc { color: #19177C } /* Name.Variable.Class */\n",
       ".output_html .vg { color: #19177C } /* Name.Variable.Global */\n",
       ".output_html .vi { color: #19177C } /* Name.Variable.Instance */\n",
       ".output_html .vm { color: #19177C } /* Name.Variable.Magic */\n",
       ".output_html .il { color: #666666 } /* Literal.Number.Integer.Long */</style><div class=\"highlight\"><pre><span></span><span class=\"n\">BUFFER_SIZE</span> <span class=\"o\">=</span> <span class=\"nb\">int</span><span class=\"p\">(</span><span class=\"mf\">1e5</span><span class=\"p\">)</span>      <span class=\"c1\"># Replay buffer size</span>\n",
       "\n",
       "<span class=\"n\">BATCH_SIZE</span> <span class=\"o\">=</span> <span class=\"mi\">128</span>            <span class=\"c1\"># Minibatch size</span>\n",
       "\n",
       "<span class=\"n\">GAMMA</span> <span class=\"o\">=</span> <span class=\"mf\">0.99</span>                <span class=\"c1\"># Discount factor</span>\n",
       "\n",
       "<span class=\"n\">TAU</span> <span class=\"o\">=</span> <span class=\"mf\">1e-3</span>                  <span class=\"c1\"># Soft update of target parameters</span>\n",
       "\n",
       "<span class=\"n\">LR_ACTOR</span> <span class=\"o\">=</span> <span class=\"mf\">1e-3</span>             <span class=\"c1\"># Learning rate of the actor</span>\n",
       "\n",
       "<span class=\"n\">LR_CRITIC</span> <span class=\"o\">=</span> <span class=\"mf\">1e-3</span>            <span class=\"c1\"># Learning rate of the critic</span>\n",
       "\n",
       "<span class=\"n\">WEIGHT_DECAY</span> <span class=\"o\">=</span> <span class=\"o\">.</span><span class=\"mi\">000</span>         <span class=\"c1\"># L2 weight decay</span>\n",
       "\n",
       "<span class=\"n\">UPDATE_EVERY_N_STEPS</span> <span class=\"o\">=</span> <span class=\"mi\">5</span>    <span class=\"c1\"># Number of step wait before update</span>\n",
       "\n",
       "<span class=\"n\">UPDATE_N_TIMES</span> <span class=\"o\">=</span> <span class=\"mi\">10</span>         <span class=\"c1\"># Number of updates</span>\n",
       "\n",
       "<span class=\"n\">GRADIENT_CLIP_VALUE</span> <span class=\"o\">=</span> <span class=\"mi\">2</span>     <span class=\"c1\"># Max gradient modulus for clipping</span>\n",
       "\n",
       "<span class=\"c1\"># LR_STEP_SIZE = 30         # LR step size</span>\n",
       "\n",
       "<span class=\"c1\"># LR_GAMMA = .2             # LR gamma multiplier</span>\n",
       "\n",
       "<span class=\"n\">OU_THETA</span> <span class=\"o\">=</span> <span class=\"o\">.</span><span class=\"mi\">15</span>              <span class=\"c1\"># OU noise parameters</span>\n",
       "</pre></div>\n"
      ],
      "text/latex": [
       "\\begin{Verbatim}[commandchars=\\\\\\{\\}]\n",
       "\\PY{n}{BUFFER\\PYZus{}SIZE} \\PY{o}{=} \\PY{n+nb}{int}\\PY{p}{(}\\PY{l+m+mf}{1e5}\\PY{p}{)}      \\PY{c+c1}{\\PYZsh{} Replay buffer size}\n",
       "\n",
       "\\PY{n}{BATCH\\PYZus{}SIZE} \\PY{o}{=} \\PY{l+m+mi}{128}            \\PY{c+c1}{\\PYZsh{} Minibatch size}\n",
       "\n",
       "\\PY{n}{GAMMA} \\PY{o}{=} \\PY{l+m+mf}{0.99}                \\PY{c+c1}{\\PYZsh{} Discount factor}\n",
       "\n",
       "\\PY{n}{TAU} \\PY{o}{=} \\PY{l+m+mf}{1e\\PYZhy{}3}                  \\PY{c+c1}{\\PYZsh{} Soft update of target parameters}\n",
       "\n",
       "\\PY{n}{LR\\PYZus{}ACTOR} \\PY{o}{=} \\PY{l+m+mf}{1e\\PYZhy{}3}             \\PY{c+c1}{\\PYZsh{} Learning rate of the actor}\n",
       "\n",
       "\\PY{n}{LR\\PYZus{}CRITIC} \\PY{o}{=} \\PY{l+m+mf}{1e\\PYZhy{}3}            \\PY{c+c1}{\\PYZsh{} Learning rate of the critic}\n",
       "\n",
       "\\PY{n}{WEIGHT\\PYZus{}DECAY} \\PY{o}{=} \\PY{o}{.}\\PY{l+m+mi}{000}         \\PY{c+c1}{\\PYZsh{} L2 weight decay}\n",
       "\n",
       "\\PY{n}{UPDATE\\PYZus{}EVERY\\PYZus{}N\\PYZus{}STEPS} \\PY{o}{=} \\PY{l+m+mi}{5}    \\PY{c+c1}{\\PYZsh{} Number of step wait before update}\n",
       "\n",
       "\\PY{n}{UPDATE\\PYZus{}N\\PYZus{}TIMES} \\PY{o}{=} \\PY{l+m+mi}{10}         \\PY{c+c1}{\\PYZsh{} Number of updates}\n",
       "\n",
       "\\PY{n}{GRADIENT\\PYZus{}CLIP\\PYZus{}VALUE} \\PY{o}{=} \\PY{l+m+mi}{2}     \\PY{c+c1}{\\PYZsh{} Max gradient modulus for clipping}\n",
       "\n",
       "\\PY{c+c1}{\\PYZsh{} LR\\PYZus{}STEP\\PYZus{}SIZE = 30         \\PYZsh{} LR step size}\n",
       "\n",
       "\\PY{c+c1}{\\PYZsh{} LR\\PYZus{}GAMMA = .2             \\PYZsh{} LR gamma multiplier}\n",
       "\n",
       "\\PY{n}{OU\\PYZus{}THETA} \\PY{o}{=} \\PY{o}{.}\\PY{l+m+mi}{15}              \\PY{c+c1}{\\PYZsh{} OU noise parameters}\n",
       "\\end{Verbatim}\n"
      ],
      "text/plain": [
       "BUFFER_SIZE = int(1e5)      # Replay buffer size\n",
       "\n",
       "BATCH_SIZE = 128            # Minibatch size\n",
       "\n",
       "GAMMA = 0.99                # Discount factor\n",
       "\n",
       "TAU = 1e-3                  # Soft update of target parameters\n",
       "\n",
       "LR_ACTOR = 1e-3             # Learning rate of the actor\n",
       "\n",
       "LR_CRITIC = 1e-3            # Learning rate of the critic\n",
       "\n",
       "WEIGHT_DECAY = .000         # L2 weight decay\n",
       "\n",
       "UPDATE_EVERY_N_STEPS = 5    # Number of step wait before update\n",
       "\n",
       "UPDATE_N_TIMES = 10         # Number of updates\n",
       "\n",
       "GRADIENT_CLIP_VALUE = 2     # Max gradient modulus for clipping\n",
       "\n",
       "# LR_STEP_SIZE = 30         # LR step size\n",
       "\n",
       "# LR_GAMMA = .2             # LR gamma multiplier\n",
       "\n",
       "OU_THETA = .15              # OU noise parameters"
      ]
     },
     "execution_count": 23,
     "metadata": {},
     "output_type": "execute_result"
    }
   ],
   "source": [
    "# Display hyperparameters on agent file\n",
    "from IPython import display\n",
    "with open('ddpg_agent.py', 'r') as f:\n",
    "    code = f.readlines()\n",
    "    data = \"\\n\".join(code[11:24])\n",
    "display.Code(data, language='py3')"
   ]
  },
  {
   "cell_type": "code",
   "execution_count": 24,
   "metadata": {},
   "outputs": [],
   "source": [
    "# Hyperparameters\n",
    "N_EPISODES = 500\n",
    "MAX_T = 2000\n",
    "SUCCESS_SCORE = 30"
   ]
  },
  {
   "cell_type": "code",
   "execution_count": 7,
   "metadata": {},
   "outputs": [],
   "source": [
    "def train_agent(n_episodes=2000, max_t=500, success_score=30, deque_len=100, print_every=10):\n",
    "    \"\"\"Deep Deterministic Policy Gradients\n",
    "    \n",
    "    Params\n",
    "    ======\n",
    "        n_episodes (int): maximum number of training episodes\n",
    "        max_t (int): maximum number of timesteps per episode\n",
    "        success_score (float): average score to consider the task solved.\n",
    "    \"\"\"\n",
    "    scores_deque = deque(maxlen=deque_len)\n",
    "    mean_scores_per_agent = []\n",
    "    scores = []\n",
    "    max_score = -np.Inf\n",
    "    for i_episode in range(1, n_episodes + 1):\n",
    "        env_info = env.reset(train_mode=True)[brain_name]   # reset the environment\n",
    "        states = env_info.vector_observations               # get the current states\n",
    "        scores_per_episode = []\n",
    "        agent.reset()\n",
    "        for t in range(max_t):\n",
    "            actions = agent.act(states)\n",
    "            env_info = env.step(actions)[brain_name]                 # perform actions\n",
    "            next_states = env_info.vector_observations               # get the next states\n",
    "            rewards = np.array(env_info.rewards).reshape(-1, 1)      # get the rewards\n",
    "            dones = np.array(env_info.local_done).reshape(-1, 1)     # see if episode has finished\n",
    "            agent.step(states, actions, rewards, next_states, dones)\n",
    "            states = next_states\n",
    "            scores_per_episode.append(rewards)\n",
    "            if dones.any():\n",
    "                break\n",
    "        # Scores\n",
    "        scores_per_episode = np.concatenate(scores_per_episode, axis=1)\n",
    "        mean_scores_per_agent.append(scores_per_episode.sum(axis=1).reshape(-1, 1))\n",
    "        score = np.mean(scores_per_episode.sum(axis=1).reshape(-1, 1))\n",
    "        scores_deque.append(score)\n",
    "        scores.append(score)\n",
    "#         import pdb; pdb.set_trace()\n",
    "        \n",
    "        mean_deque_score = np.mean(scores_deque)\n",
    "        print('\\rEpisode {}/{}\\tAverage Score (100): {:.2f}\\t Last score: {:.2f}'.format(i_episode,\n",
    "                                                                             n_episodes,\n",
    "                                                                             mean_deque_score,\n",
    "                                                                             score), end=\"\")\n",
    "        if i_episode % print_every == 0:\n",
    "            reversed_deque = copy(scores_deque)\n",
    "            reversed_deque.reverse()\n",
    "            mean_last_10 = np.mean(list(islice(reversed_deque, 0, print_every)))\n",
    "            torch.save(agent.actor_local.state_dict(), 'checkpoint_actor.pth')\n",
    "            torch.save(agent.critic_local.state_dict(), 'checkpoint_critic.pth')\n",
    "            print('\\rEpisode {}/{}\\tAverage Score (last {}): {:.2f}\\t Last score: {:.2f}'.format(i_episode,\n",
    "                                                                                   n_episodes,\n",
    "                                                                                   print_every,\n",
    "                                                                                   mean_last_10,\n",
    "                                                                                   score))   \n",
    "        if mean_deque_score >= success_score:\n",
    "            torch.save(agent.actor_local.state_dict(), 'solved_checkpoint_actor.pth')\n",
    "            torch.save(agent.critic_local.state_dict(), 'solved_checkpoint_critic.pth')\n",
    "            print('\\rSolved on Episode {}/{}\\tAverage Score (100): {:.2f}'.format(i_episode,\n",
    "                                                                                  n_episodes,\n",
    "                                                                                  mean_deque_score))   \n",
    "            break\n",
    "    return scores"
   ]
  },
  {
   "cell_type": "code",
   "execution_count": 8,
   "metadata": {},
   "outputs": [
    {
     "name": "stdout",
     "output_type": "stream",
     "text": [
      "Episode 10/500\tAverage Score (last 10): 1.00st score: 1.00\n",
      "Episode 20/500\tAverage Score (last 10): 1.97st score: 2.99\n",
      "Episode 30/500\tAverage Score (last 10): 6.71st score: 7.71\n",
      "Episode 40/500\tAverage Score (last 10): 9.47st score: 9.621\n",
      "Episode 50/500\tAverage Score (last 10): 16.26t score: 20.04\n",
      "Episode 60/500\tAverage Score (last 10): 21.93t score: 22.82\n",
      "Episode 70/500\tAverage Score (last 10): 26.71st score: 32.36\n",
      "Episode 80/500\tAverage Score (last 10): 33.57st score: 34.35\n",
      "Episode 90/500\tAverage Score (last 10): 31.01st score: 30.08\n",
      "Episode 100/500\tAverage Score (last 10): 33.72st score: 33.39\n",
      "Episode 110/500\tAverage Score (last 10): 33.64st score: 35.70\n",
      "Episode 120/500\tAverage Score (last 10): 35.33st score: 30.70\n",
      "Episode 130/500\tAverage Score (last 10): 35.21st score: 36.92\n",
      "Episode 140/500\tAverage Score (last 10): 34.97st score: 34.35\n",
      "Solved on Episode 140/500\tAverage Score (100): 30.24\n"
     ]
    }
   ],
   "source": [
    "# Train agent\n",
    "scores = train_agent(n_episodes=N_EPISODES, max_t=MAX_T, success_score=SUCCESS_SCORE)"
   ]
  },
  {
   "cell_type": "markdown",
   "metadata": {},
   "source": [
    "### 5. Rewards"
   ]
  },
  {
   "cell_type": "code",
   "execution_count": 11,
   "metadata": {},
   "outputs": [
    {
     "data": {
      "text/plain": [
       "<matplotlib.axes._subplots.AxesSubplot at 0x27991faed30>"
      ]
     },
     "execution_count": 11,
     "metadata": {},
     "output_type": "execute_result"
    },
    {
     "data": {
      "image/png": "[encoded data removed]",
      "text/plain": [
       "<Figure size 432x288 with 1 Axes>"
      ]
     },
     "metadata": {
      "needs_background": "light"
     },
     "output_type": "display_data"
    }
   ],
   "source": [
    "import matplotlib.pyplot as plt\n",
    "# Plot rewards\n",
    "fig = plt.figure()\n",
    "ax = fig.add_subplot(111)\n",
    "plt.plot(np.arange(1, len(scores) + 1), scores)\n",
    "plt.ylabel('Score')\n",
    "plt.xlabel('Episode #')\n",
    "ax"
   ]
  },
  {
   "cell_type": "markdown",
   "metadata": {},
   "source": [
    "### 6. Check the Trained Agent"
   ]
  },
  {
   "cell_type": "code",
   "execution_count": 25,
   "metadata": {},
   "outputs": [
    {
     "name": "stdout",
     "output_type": "stream",
     "text": [
      "Score: [3.53699992]\n"
     ]
    }
   ],
   "source": [
    "# load the weights from file\n",
    "agent.actor_local.load_state_dict(torch.load('solved_checkpoint_actor.pth'))\n",
    "agent.critic_local.load_state_dict(torch.load('solved_checkpoint_critic.pth'))\n",
    "\n",
    "# Use the trained agent for 1 episodes\n",
    "for i in range(1):\n",
    "    env_info = env.reset(train_mode=False)[brain_name] # reset the environment\n",
    "    states = env_info.vector_observations            # get the current state\n",
    "    score = 0    \n",
    "    while True:\n",
    "        actions = agent.act(states)\n",
    "        env_info = env.step(actions)[brain_name]                 # perform actions\n",
    "        next_states = env_info.vector_observations               # get the next states\n",
    "        rewards = np.array(env_info.rewards).reshape(-1, 1)      # get the rewards\n",
    "        dones = np.array(env_info.local_done).reshape(-1, 1)     # see if episode has finished\n",
    "        agent.step(states, actions, rewards, next_states, dones)\n",
    "        states = next_states\n",
    "        score += sum(rewards)\n",
    "        if dones.any():\n",
    "            break"
   ]
  },
  {
   "cell_type": "markdown",
   "metadata": {},
   "source": [
    "When finished, you can close the environment."
   ]
  },
  {
   "cell_type": "code",
   "execution_count": null,
   "metadata": {},
   "outputs": [],
   "source": [
    "env.close()"
   ]
  },
  {
   "cell_type": "markdown",
   "metadata": {},
   "source": [
    "### 7. Future Improvements\n",
    "\n",
    "Implement these methods to improve learning performance:\n",
    "\n",
    "- Extract some improvements from the [Rainbow](https://arxiv.org/pdf/1710.02298.pdf) architecture such as:\n",
    "    - Prioritized Experience\n",
    "    - Multi-step learning\n",
    "    - Noisy Nets"
   ]
  }
 ],
 "metadata": {
  "kernelspec": {
   "display_name": "Python 3",
   "language": "python",
   "name": "python3"
  },
  "language_info": {
   "codemirror_mode": {
    "name": "ipython",
    "version": 3
   },
   "file_extension": ".py",
   "mimetype": "text/x-python",
   "name": "python",
   "nbconvert_exporter": "python",
   "pygments_lexer": "ipython3",
   "version": "3.6.9"
  }
 },
 "nbformat": 4,
 "nbformat_minor": 4
}
