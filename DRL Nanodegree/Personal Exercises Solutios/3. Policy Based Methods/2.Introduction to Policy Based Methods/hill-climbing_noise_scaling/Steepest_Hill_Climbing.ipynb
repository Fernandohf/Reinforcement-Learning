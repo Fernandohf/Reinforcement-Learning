{
 "cells": [
  {
   "cell_type": "markdown",
   "metadata": {},
   "source": [
    "# Steepest Hill Climbing\n",
    "---\n",
    "\n",
    "In this notebook, we will train hill climbing with adaptive noise scaling with OpenAI Gym's Cartpole environment."
   ]
  },
  {
   "cell_type": "markdown",
   "metadata": {},
   "source": [
    "### 1. Import the Necessary Packages"
   ]
  },
  {
   "cell_type": "code",
   "execution_count": 2,
   "metadata": {},
   "outputs": [],
   "source": [
    "import gym\n",
    "import numpy as np\n",
    "from collections import deque\n",
    "import matplotlib.pyplot as plt\n",
    "%matplotlib inline"
   ]
  },
  {
   "cell_type": "markdown",
   "metadata": {},
   "source": [
    "### 2. Define the Policy"
   ]
  },
  {
   "cell_type": "code",
   "execution_count": 22,
   "metadata": {},
   "outputs": [
    {
     "name": "stdout",
     "output_type": "stream",
     "text": [
      "observation space: Box(4,)\n",
      "action space: Discrete(2)\n"
     ]
    }
   ],
   "source": [
    "env = gym.make('CartPole-v0')\n",
    "print('observation space:', env.observation_space)\n",
    "print('action space:', env.action_space)\n",
    "\n",
    "class Policy():\n",
    "    def __init__(self, s_size=4, a_size=2, w=None):\n",
    "        self.s_size = s_size\n",
    "        self.a_size = a_size\n",
    "        if w is None:\n",
    "            self.w = np.random.rand(s_size, a_size)  # weights for simple linear policy: state_space x action_space\n",
    "        else:\n",
    "            self.w = w\n",
    "        \n",
    "    def forward(self, state):\n",
    "        x = np.dot(state, self.w)\n",
    "        return np.exp(x) / sum(np.exp(x)) # Softmax\n",
    "    \n",
    "    def act(self, state):\n",
    "        probs = self.forward(state)\n",
    "        #action = np.random.choice(self.a_size, p=probs) # option 1: stochastic policy\n",
    "        action = np.argmax(probs)              # option 2: deterministic policy\n",
    "        return action"
   ]
  },
  {
   "cell_type": "markdown",
   "metadata": {},
   "source": [
    "### 3. Train the Agent with Stochastic Policy Search"
   ]
  },
  {
   "cell_type": "code",
   "execution_count": 23,
   "metadata": {},
   "outputs": [],
   "source": [
    "def run_episode(policy, env, gamma=.999, max_t=1000):\n",
    "    \"\"\"\n",
    "        Implement the policy on the gym environment.\n",
    "        \n",
    "        Parameters\n",
    "        ----------\n",
    "        policy: Policy\n",
    "            Policy being executed.\n",
    "        env: Gym Environment\n",
    "            Environment being executed\n",
    "        gamma: float\n",
    "            penalty for later rewards\n",
    "    \"\"\"\n",
    "    rewards = []\n",
    "    state = env.reset()\n",
    "    for t in range(max_t):\n",
    "        action = policy.act(state)\n",
    "        state, reward, done, _ = env.step(action)\n",
    "        rewards.append(reward)\n",
    "        if done:\n",
    "            break \n",
    "    discounts = [gamma ** i for i in range(len(rewards) + 1)]\n",
    "    R = sum([a * b for a, b in zip(discounts, rewards)])\n",
    "    \n",
    "    return [R, sum(rewards)]"
   ]
  },
  {
   "cell_type": "code",
   "execution_count": 24,
   "metadata": {},
   "outputs": [
    {
     "name": "stdout",
     "output_type": "stream",
     "text": [
      "Environment solved in 39 episodes!\tAverage Score: 195.08\n"
     ]
    }
   ],
   "source": [
    "env = gym.make('CartPole-v0')\n",
    "env.seed(42)\n",
    "np.random.seed(42)\n",
    "\n",
    "\n",
    "def steep_hill_climbing(n_episodes=1000, max_t=1000, gamma=.9999, print_every=100, pop_size=10,\n",
    "                        noise_scale=1.25, noise_mult=1, max_noise=2, min_noise=1e-4):\n",
    "    \"\"\"Implementation of steep hill climbingwith apdaptive noise.\n",
    "        \n",
    "    Params\n",
    "    ======\n",
    "        n_episodes (int): maximum number of training episodes\n",
    "        max_t (int): maximum number of timesteps per episode\n",
    "        gamma (float): discount rate\n",
    "        print_every (int): how often to print average score (over last 100 episodes)\n",
    "        pop_size (int): number of noised agents\n",
    "    \"\"\"\n",
    "    scores_deque = deque(maxlen=100)\n",
    "    scores = []\n",
    "    best_R = -np.Inf\n",
    "    best_w = Policy().w\n",
    "    all_scores = []\n",
    "    for i_episode in range(1, n_episodes + 1):\n",
    "        policies = [Policy(w=best_w + noise_mult * np.random.rand(*best_w.shape)) for p in range(pop_size)]\n",
    "        scores_pop = np.array([run_episode(policy, env, gamma=gamma) for policy in policies])\n",
    "        all_scores += list(scores_pop)\n",
    "        best_index = scores_pop[:, 0].argmax()\n",
    "        local_best_R = scores_pop[:, 0][best_index]\n",
    "        local_best_w = policies[best_index].w\n",
    "        if local_best_R >= best_R: # found better weights\n",
    "            best_R = local_best_R\n",
    "            best_w = local_best_w\n",
    "            noise_mult = max(min_noise, noise_mult / noise_scale)\n",
    "        else: # did not find better weights\n",
    "            noise_mult = min(max_noise, noise_scale * noise_scale)\n",
    "        scores_deque.append(scores_pop[:, 1][best_index])\n",
    "        scores.append(scores_pop[:, 1][best_index])\n",
    "#         import pdb;pdb.set_trace()\n",
    "        if i_episode % print_every == 0:\n",
    "            print('Episode {}\\tAverage Score: {:.2f}'.format(i_episode, np.mean(scores_deque)))\n",
    "        if np.mean(scores_deque) >= 195.0:\n",
    "            print('Environment solved in {:d} episodes!\\tAverage Score: {:.2f}'.format(max(i_episode, i_episode-100), np.mean(scores_deque)))\n",
    "            break\n",
    "        \n",
    "    return scores, Policy(w=best_w), all_scores\n",
    "            \n",
    "scores, policy, all_scores = steep_hill_climbing(pop_size=10)"
   ]
  },
  {
   "cell_type": "markdown",
   "metadata": {},
   "source": [
    "### 4. Plot the Scores"
   ]
  },
  {
   "cell_type": "code",
   "execution_count": 25,
   "metadata": {},
   "outputs": [
    {
     "data": {
      "image/png": "[encoded data removed]",
      "text/plain": [
       "<Figure size 432x288 with 1 Axes>"
      ]
     },
     "metadata": {
      "needs_background": "light"
     },
     "output_type": "display_data"
    }
   ],
   "source": [
    "fig = plt.figure()\n",
    "ax = fig.add_subplot(111)\n",
    "plt.plot(np.arange(1, len(scores)+1), scores)\n",
    "plt.ylabel('Score')\n",
    "plt.xlabel('Episode #')\n",
    "plt.show()"
   ]
  },
  {
   "cell_type": "markdown",
   "metadata": {},
   "source": [
    "### 5. Watch a Smart Agent!"
   ]
  },
  {
   "cell_type": "code",
   "execution_count": 28,
   "metadata": {},
   "outputs": [],
   "source": [
    "env = gym.make('CartPole-v0')\n",
    "state = env.reset()\n",
    "for t in range(200):\n",
    "    action = policy.act(state)\n",
    "    env.render()\n",
    "    state, reward, done, _ = env.step(action)\n",
    "    if done:\n",
    "        break \n",
    "\n",
    "env.close()"
   ]
  },
  {
   "cell_type": "code",
   "execution_count": null,
   "metadata": {},
   "outputs": [],
   "source": []
  }
 ],
 "metadata": {
  "anaconda-cloud": {},
  "kernelspec": {
   "display_name": "Python 3",
   "language": "python",
   "name": "python3"
  },
  "language_info": {
   "codemirror_mode": {
    "name": "ipython",
    "version": 3
   },
   "file_extension": ".py",
   "mimetype": "text/x-python",
   "name": "python",
   "nbconvert_exporter": "python",
   "pygments_lexer": "ipython3",
   "version": "3.7.3"
  }
 },
 "nbformat": 4,
 "nbformat_minor": 4
}
