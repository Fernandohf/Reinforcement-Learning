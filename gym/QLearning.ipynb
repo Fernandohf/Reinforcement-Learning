{
 "cells": [
  {
   "cell_type": "markdown",
   "metadata": {},
   "source": [
    "# Q-Learning\n",
    " Applying the Q-learning algorithm using Numpy and OpenAI Gym.\n",
    " \n",
    " [Reference](https://github.com/simoninithomas/Deep_reinforcement_learning_Course/blob/master/Q%20learning/FrozenLake/Q%20Learning%20with%20FrozenLake.ipynb)"
   ]
  },
  {
   "cell_type": "markdown",
   "metadata": {},
   "source": [
    "## Environment - CartPole-v1\n",
    "\n",
    "This is a classic control problem implemented in the Gym package. From the docs: \n",
    "\n",
    ">A pole is attached by an un-actuated joint to a cart, which moves along a frictionless track. The system is controlled by applying a force of +1 or -1 to the cart. The pendulum starts upright, and the goal is to prevent it from falling over. A reward of +1 is provided for every timestep that the pole remains upright. The episode ends when the pole is more than 15 degrees from vertical, or the cart moves more than 2.4 units from the center.\n",
    "\n",
    "An example of the final control achieved is shown below.\n",
    "\n",
    "![CartPole Gif](https://github.com/Fernandohf/Reinforcement-Learning/blob/master/gym/results/result.gif?raw=true)\n",
    "\n",
    "Complete [list of environments](https://gym.openai.com/envs/#classic_control)."
   ]
  },
  {
   "cell_type": "markdown",
   "metadata": {},
   "source": [
    "Import relevant packages:\n",
    "- **Gym**: Load environment.\n",
    "- **Numpy**: Efficient matricial operations.\n",
    "- **Seaborn**: Visualization."
   ]
  },
  {
   "cell_type": "code",
   "execution_count": 1,
   "metadata": {},
   "outputs": [],
   "source": [
    "import gym\n",
    "import numpy as np\n",
    "import seaborn as sns\n",
    "from tqdm import tqdm_notebook"
   ]
  },
  {
   "cell_type": "markdown",
   "metadata": {},
   "source": [
    "Create the environment and get the states bounds."
   ]
  },
  {
   "cell_type": "code",
   "execution_count": 2,
   "metadata": {},
   "outputs": [],
   "source": [
    "# Create GYM environment\n",
    "env = gym.make(\"CartPole-v1\")"
   ]
  },
  {
   "cell_type": "code",
   "execution_count": 3,
   "metadata": {},
   "outputs": [
    {
     "name": "stdout",
     "output_type": "stream",
     "text": [
      "Min state values: [-4.8000002e+00 -3.4028235e+38 -4.1887903e-01 -3.4028235e+38]\n",
      "Max state values: [4.8000002e+00 3.4028235e+38 4.1887903e-01 3.4028235e+38]\n"
     ]
    }
   ],
   "source": [
    "# Observation bounds\n",
    "obs_low = env.observation_space.low\n",
    "obs_high = env.observation_space.high\n",
    "print(f\"Min state values: {obs_low}\")\n",
    "print(f\"Max state values: {obs_high}\")"
   ]
  },
  {
   "cell_type": "code",
   "execution_count": 4,
   "metadata": {},
   "outputs": [],
   "source": [
    "# Bins to digitize position, angle, and angular velocity\n",
    "res1 = 50\n",
    "res2 = 50\n",
    "res3 = 20\n",
    "bins = [np.linspace(obs_low[0], obs_high[0], res1),\n",
    "        np.linspace(obs_low[2], obs_high[2], res2),\n",
    "        np.linspace(-10, 10, res3),]"
   ]
  },
  {
   "cell_type": "code",
   "execution_count": 5,
   "metadata": {},
   "outputs": [],
   "source": [
    "# This function discretize the states variables\n",
    "def get_dstates(states, bins):\n",
    "    \"\"\"\n",
    "    Discretize only 3 state variables.\n",
    "    \"\"\"\n",
    "    d_states = []\n",
    "    c_states = [states[0], states[2], states[3]]\n",
    "    for i, s in enumerate(c_states):\n",
    "        d_states.append(np.digitize(s, bins[i]))\n",
    "    return tuple(d_states)"
   ]
  },
  {
   "cell_type": "markdown",
   "metadata": {},
   "source": [
    "These states are 4 variables related to the cart:\n",
    "\n",
    "Index| State Variable\n",
    ":---:|:---\n",
    "0 |Cart Position\n",
    "1 |Cart Velocity\n",
    "2 |Pole Angle\n",
    "3 |Pole Velocity (at tip)\n",
    "\n",
    "In order to apply Q-Learning algorithm, we will discretize those variable. In order to train faster, we will ignore the **Cart Velocity** state."
   ]
  },
  {
   "cell_type": "code",
   "execution_count": 6,
   "metadata": {},
   "outputs": [
    {
     "name": "stdout",
     "output_type": "stream",
     "text": [
      "2\n"
     ]
    }
   ],
   "source": [
    "# Number of actions and states\n",
    "action_size = env.action_space.n\n",
    "print(action_size)"
   ]
  },
  {
   "cell_type": "markdown",
   "metadata": {},
   "source": [
    "The environment allows 2 possible discrete actions:\n",
    "\n",
    "Index| Action Variable\n",
    ":---:|:---\n",
    "0 |Push Cart Left\n",
    "1 |Push Cart Right\n"
   ]
  },
  {
   "cell_type": "markdown",
   "metadata": {},
   "source": [
    "Here, we create the q-table with the dimensions corresponding to each state variable discretization bucket and actions. Additionally, the hyperparameters are selected:\n",
    "\n",
    "- *Episodes*: Total number of episodes to fill q-table.\n",
    "- *Learning Rate*: Learning rate used in Bellman's Equation.\n",
    "- *Max Steps*: Max number of steps in each episode.\n",
    "- *Gamma*: Discounting rate for old rewards.\n",
    "- *Epsilon*: Initial Epsilon value, close to 1 represents exploration.\n",
    "- *Decay Rate*: Rate to reduce Epsilon value.\n"
   ]
  },
  {
   "cell_type": "code",
   "execution_count": 7,
   "metadata": {},
   "outputs": [
    {
     "name": "stdout",
     "output_type": "stream",
     "text": [
      "(51, 51, 21, 2)\n"
     ]
    }
   ],
   "source": [
    "# Initialize q-table\n",
    "qtable = np.zeros((res1 + 1, res2 + 1, res3 + 1, action_size))\n",
    "\n",
    "print(qtable.shape)\n",
    "# Hyperparameters\n",
    "total_episodes = 10000      # Total episodes\n",
    "learning_rate = 0.2         # Learning rate\n",
    "max_steps = 200             # Max steps per episode\n",
    "gamma = 0.95                # Discounting rate\n",
    "\n",
    "# Exploration parameters\n",
    "epsilon = 1.0               # Exploration rate\n",
    "max_epsilon = 1.0           # Exploration probability at start\n",
    "min_epsilon = 0.1          # Minimum exploration probability \n",
    "decay_rate = 0.001         # Exponential decay rate for exploration prob"
   ]
  },
  {
   "cell_type": "markdown",
   "metadata": {},
   "source": [
    "### Q-Table\n",
    "Now that everything is ready, the Q-table can start to be filled with values."
   ]
  },
  {
   "cell_type": "code",
   "execution_count": 8,
   "metadata": {},
   "outputs": [
    {
     "data": {
      "application/vnd.jupyter.widget-view+json": {
       "model_id": "bf08016a56344a4e91714b9ee0b4406c",
       "version_major": 2,
       "version_minor": 0
      },
      "text/plain": [
       "HBox(children=(IntProgress(value=0, max=10000), HTML(value='')))"
      ]
     },
     "metadata": {},
     "output_type": "display_data"
    },
    {
     "name": "stdout",
     "output_type": "stream",
     "text": [
<<<<<<< HEAD
      "Score over time: 143.2519\n"
=======
      "\n",
      "Score over time: 130.9262\n"
>>>>>>> 1ec6d262c6e570d519a2d18558ba5fcf10889b73
     ]
    }
   ],
   "source": [
    "# List of rewards\n",
    "rewards = []\n",
    "\n",
    "# 2 For life or until learning is stopped\n",
    "for episode in tqdm_notebook(range(total_episodes)):\n",
    "    # Reset the environment\n",
    "    states = env.reset()\n",
    "    dstates = get_dstates(states, bins)\n",
    "    step = 0\n",
    "    done = False\n",
    "    total_rewards = 0\n",
    "    \n",
    "    for step in range(max_steps):\n",
    "        # 3. Choose an action a in the current world state (s)\n",
    "        ## First we randomize a number\n",
    "        exp_exp_tradeoff = np.random.uniform(0, 1)\n",
    "        \n",
    "        ## If this number > greater than epsilon --> exploitation (taking the biggest Q value for this state)\n",
    "        if exp_exp_tradeoff > epsilon:\n",
    "            action = np.argmax(qtable[dstates])\n",
    "\n",
    "        # Else doing a random choice --> exploration\n",
    "        else:\n",
    "            action = env.action_space.sample()\n",
    "\n",
    "        # Take the action (a) and observe the outcome state(s') and reward (r)\n",
    "        new_state, reward, done, info = env.step(action)\n",
    "        new_dstates = get_dstates(new_state, bins)\n",
    "        # Update Q(s,a):= Q(s,a) + lr [R(s,a) + gamma * max Q(s',a') - Q(s,a)]\n",
    "        # qtable[new_state,:] : all the actions we can take from new state\n",
    "        ind = dstates + (action,)\n",
    "        qtable[ind] = (qtable[ind] + \n",
    "                       learning_rate * (reward + gamma * np.max(qtable[new_dstates]) -\n",
    "                                        qtable[ind]))\n",
    "        \n",
    "        total_rewards += reward\n",
    "        \n",
    "        # Our new state is state\n",
    "        state = new_state\n",
    "        dstates = new_dstates\n",
    "        # If done (if we're dead) : finish episode\n",
    "        if done == True: \n",
    "            break\n",
    "        \n",
    "    # Reduce epsilon (because we need less and less exploration)\n",
    "    epsilon = min_epsilon + (max_epsilon - min_epsilon) * np.exp(-decay_rate * episode) \n",
    "    rewards.append(total_rewards)\n",
    "\n",
    "print (\"Score over time: \" +  str(sum(rewards)/total_episodes))"
   ]
  },
  {
   "cell_type": "code",
   "execution_count": 10,
   "metadata": {},
   "outputs": [],
   "source": [
    "# Save Q-table\n",
    "np.save('qtable.npy', qtable)"
   ]
  },
  {
   "cell_type": "markdown",
   "metadata": {},
   "source": [
    "## Results\n",
    "\n",
    "Using the highest reward for each state on **Q-Table**, we can estimate the best action. The code below executes the simulation following the optimal actions trained."
   ]
  },
  {
   "cell_type": "code",
<<<<<<< HEAD
   "execution_count": 9,
=======
   "execution_count": 14,
   "metadata": {},
   "outputs": [],
   "source": [
    "# Load q-table\n",
    "qtable = np.load('qtable.npy')"
   ]
  },
  {
   "cell_type": "code",
   "execution_count": 15,
>>>>>>> 1ec6d262c6e570d519a2d18558ba5fcf10889b73
   "metadata": {},
   "outputs": [
    {
     "name": "stdout",
     "output_type": "stream",
     "text": [
      "****************************************************\n",
      "EPISODE  0\n",
      "Number of steps 106\n",
      "****************************************************\n",
      "EPISODE  1\n",
      "Number of steps 230\n",
      "****************************************************\n",
      "EPISODE  2\n",
<<<<<<< HEAD
      "Number of steps 187\n"
=======
      "Number of steps 47\n"
>>>>>>> 1ec6d262c6e570d519a2d18558ba5fcf10889b73
     ]
    }
   ],
   "source": [
    "# Show final results\n",
    "# Wrapper to save  as video\n",
    "menv = gym.wrappers.Monitor(env, \"results\", force=True) # Uncomment to save video\n",
    "for episode in range(3):\n",
    "    states = menv.reset()\n",
    "    dstates = get_dstates(states, bins)\n",
    "    step = 0\n",
    "    done = False\n",
    "    print(\"****************************************************\")\n",
    "    print(\"EPISODE \", episode)\n",
    "    for step in range(250):\n",
    "        \n",
    "        # Take the action (index) that have the maximum expected future reward given that state\n",
    "        action = np.argmax(qtable[dstates])\n",
    "        \n",
    "        new_state, reward, done, info = menv.step(action)\n",
    "        new_dstates = get_dstates(new_state, bins)\n",
    "        ind = dstates + (action,)\n",
    "        menv.render()\n",
    "        if done:\n",
    "            # Here, we decide to only print the last state (to see if our agent is on the goal or fall into an hole)\n",
    "            # We print the number of step it took.\n",
    "            print(\"Number of steps\", step)\n",
    "            break\n",
    "        state = new_state\n",
    "        dstates = new_dstates\n",
    "    else:\n",
    "        menv.close()\n",
    "menv.close()"
   ]
  },
  {
   "cell_type": "markdown",
   "metadata": {},
   "source": [
    "## Reward Evolution\n",
    "\n",
    "The graph shows how the mean reward evolves during the Q-Table filling phase."
   ]
  },
  {
   "cell_type": "code",
<<<<<<< HEAD
   "execution_count": 10,
=======
   "execution_count": 12,
>>>>>>> 1ec6d262c6e570d519a2d18558ba5fcf10889b73
   "metadata": {},
   "outputs": [
    {
     "data": {
      "text/plain": [
<<<<<<< HEAD
       "<matplotlib.axes._subplots.AxesSubplot at 0x29173bf1fd0>"
      ]
     },
     "execution_count": 10,
=======
       "<matplotlib.axes._subplots.AxesSubplot at 0x7f1b01c8f438>"
      ]
     },
     "execution_count": 12,
>>>>>>> 1ec6d262c6e570d519a2d18558ba5fcf10889b73
     "metadata": {},
     "output_type": "execute_result"
    },
    {
     "data": {
<<<<<<< HEAD
      "image/png": "iVBORw0KGgoAAAANSUhEUgAAAXgAAAD9CAYAAAC2l2x5AAAABHNCSVQICAgIfAhkiAAAAAlwSFlzAAALEgAACxIB0t1+/AAAADl0RVh0U29mdHdhcmUAbWF0cGxvdGxpYiB2ZXJzaW9uIDMuMC4zLCBodHRwOi8vbWF0cGxvdGxpYi5vcmcvnQurowAAIABJREFUeJztnXmAJEWZt5+q6q7urr5qjp7pue+JuU+Yk2GagUFQQEDQdRFQBJFjXRVdB/h0QWXFXR3Z9UTdUXFZWWV1XY9vWXQ4HZFbDjFAYDiHa6Cme/q+9o+q6q67srIyK496nz+6q7IiI9/IzPhF5JsRbwRGR0cRBEEQ/EfQaQMEQRAEexCBFwRB8Cki8IIgCD5FBF4QBMGniMALgiD4FBF4QRAEnyICLwiC4FNE4AVBEHyKCLwgCIJPEYEXBEHwKTUOHltiJAiCIJgjYCSRkwLP6693mdovGo0Qi/VYbI27kTJXB1Lm6qCcMre1NRtOKy4aQRAEnyICLwiC4FNE4AVBEHyKCLwgCIJPEYEXBEHwKQVH0SilWoCbgAjwOnA+8B9AE/BTrfVupdQs4MZEXl/VWv/IXpMFQRAEIxTrwV8I/ERr3QE8AXwY+CGwDdiplGoHrgAuBzqAS5RSdbZZKwiCIBim2Dj464H+lLS7gOVa61Gl1J3AZmAtcHFi2+PAMuAhuwx2Oz19Q/xi37O8Z8ciw/vc/cgBXn2rh7ntzTz5wiHO6JhPbU0IgJfe6OYPf3qFX+57Lmu/r/zNUfz2gRfGfgvXBvncBzdy6/0vUBMM8j/3Pl92eVobwxzqHjCU9rRt8/jZXc+WfUxBSGX5vIk8/uybZeezesEk/vj0wbLzaZ8Y4ZU3jY9hrwkFGRoeSdv23SuOq4h/vKDAa607AZRSG4HtwINAcnZSN3FXTVBrPZqxzRDRaKRUewEIhYKm97WbP/zhOW659wUuPH214X32/PqJtO9HrZ3BygWTAfjijx5CP/dWzv3ufixd+AcGR/j5vv3se+SACctzY1TcARF3wRasEHfAEnEHShJ3IEvcIS76LS31lthTiKIzWZVSW4HrgHcC3yAu4F2J//uBVOubgENGD252JpebZ7719sQFsRz7Dh/uH9t/eCj75kjy0mvZM4EHB4ZNH1cQ3Ei0KUzssPGORj4Wz2zlyRcNy5OtNDXUOj+TVSm1mLi4n6y1fhm4n7ivHeI9+geAx5RSm5VStcAqQJuwWTDBPY+/6rQJguAZhkbcE/4qGDQUSqb84xT5/XIgCtyklLodeBw4Ryl1L3Cn1vol4PPAtcA9wPVa6/58mQmCIDhFLleJ3ynmg/9Ajs0/y0izn3hvXrCIyrTtglBdLJzRyvOvHi47ny0r2tn32CsWWGQ/MtFJEARXEwhY0+WprbFG7hbOaLUkn0ogAu9C3OMpFAT/MFqFFUsE3iZGq/FuEoRqwEM+VBF4q7Hg4qdmMSr9eaHKschDYx0eqpIi8BVkcGiY5181t4qVIAjuwEP6LgJfSf7zjme46nv3lbRPoMRHAtf1dgTBb3jI/SoCX0E6DU77F5EWBMEKROBdiIc6CIJgO1b1d6qxXonAO8TwyAhvdcmkX0HwGl5qJ0TgbaLYTfBfdz3LZV//XUVsEQTBOmpC3pFN71jqEYw+Tr5yMH8kOfHBC0Iq1lQIq4YchyoUKMwKROBN0ts/VJHJTDIOXhAEs4jAm+SSr9zpyoBDgwXixwtCNVPqkGM/IAJfBi+93u20CVk89NQbTpsgCK7EqqdhL43GEYEXBEHwKSLwLqcaHysFQbAGEXi7KPYYJ7otCIawbFSZRa4VLw18EIG3GKsWJxAEQSiXgkv2paKU2g3sBd4GrExsXge8A+gBbgaeS2w/Vms9bKGdnkHiwAuC4BaKCrxSKgR8D9gG7NVa/01i+zrgcq31XUqpc4GrtNY/sNXaKuO8a/c6bYIgOI5VD8XV2PUy4qIJATcCmeJ9NbAr8XklcLZS6i6l1HkW2icIgiCYpGgPXms9ANyilNqc3KaUmg70aq2fTmx6CPg+8BTwG6XU/2qtXyyWdzQaMWV0KBQ0va+VhOtqsuyIRMIAtEYjWVOaa8MhIF7u2trxz5k0NdW7onyC4AaCQWteFdbVGfZIFyTSEC47j0ppmNkSvxu4KeX7L7TWnQBKqX3AYqCowMdi+eOxFCIajZje10r6+wez7Ojpicd8PxTrIZgh8AMD8dcSsVgPQ4PjnzM5fLjPFeUTBDcwMmLN7Oz+viFL8knW8XIYHh4xXcfb2poNpzXbNB4L/D7l+81KqSVKqSCwAXjCZL6+wUtDqQTBzchcEPOY7cHPBFIDsXwK2EP8PcYNWusD5RrmRT5/w/0smN5adj4y1FIQ3IuXum6GBV5rfVXK57UZvz0EbLHOLG/yzMudvPZWr9NmCIK/sGwUjZek2RpkopMLkbH0gjCOPM+aRwS+gsiNKgilI90d84jAO0UBP7v44AVBsAIReId59S0ZDikIXsJLLlQReItJdr5T74HnXunivj+/lp4wkeCm3zxVIcu8w7u2z3faBEHwBSLwZZCrIc/lXPmHf3uAb/7XYznz+OPTB601ygccuWSK0yYILsJtDksvuVBF4AXBJdSEpDrmxCJBtcqxIi4aQRBKZucRM502QfAZIvBlUFbHwkOPeRVHzo0gWIIIvCAIrsay5t6yJfu8gwi8IAiCTxGBtxpxLwiCv/FQF14EvgKU+tK92tuIKi++YBMe0mXLEIGvIEZvMA+NwhIE26n2Dk85iMCXgVEhznWDyj0rCN7ES/0vEXirke63ILiTKqybIvAupNofSau8+EIGbgsN4C5rCiMCbzUuuxkFIReTW+udNqHyuCzkQSUwvGSfUmo3sBfYBzwO6MRPZxFvKG5M5PdVrfWPLLbTk/T0DdHbb81K7oJgJZectpKrv3+f02YYwrLYL1Xooikq8EqpEPA9YBtxgV8JfEtrfXVKmm8ClwP3AXuVUj/VWvfbY7I3GB2FS6+7M+dvfQOFRX9waITBoWE7zBIEQB40qwUjPfgQ8d75M4nvK4GdSqnjgF9rrb8ArAUu1lqPKqUeB5YBDxXLOBqNmDI6FAqa3tdK6upqs+wIBuM1JxptyEofrg0BcPHuO9myalrefL9008M0RWottNRbtLRmn7tqoK6+cte8udk7Lpolcydy4GD5C+OE6ww7LArS0FD+daqUhhUtsdZ6ALhFKbU5selp4ArgbuBmpdQmIKi1Tj7/dANNRg4ei5m7aNFoxPS+VtLfP5hlx+hI/DTEYr1Z6QcGx3vlQ4OFe+iHewYtsNCbdHZmn7tqoL+vcte8q6uvYscql9ltjezZtYPzrt1bVj79FrlLe3sGys5jeHjEtIa1tTUbTmvmJetdwN1a6xHgVuK99ZGU35uAQybyFQRBcD1e8uSbEfjdwPGJz9uAR4HHlFKblVK1wCrGX8BWHwV8m+L2FITScdswSS9hRuCvAXYppe4EntJa3wd8HrgWuAe4vtpfsBqhCl/oGyYgTaFgA9VY5wy/ddBaX5XytSPjt/3AdkssEgRBcDFeaihkopNteOguEATBl4jAW4xR54K4FQWh0lRfp6tqBf7K79zD/7/nOUvyev7VLkNDuO7506tjn+994jVLji0Ifkf6QuapWoE/cLCH3zzwYtF0F/zjbejn3yqY5skXYlaZJQiCYBlVK/BGGR4Z5aGn3nDaDEEQysRLL0etQgReEATBp4jAC65DXkALacj9YBoReItJzrqrxsdBq5BzJ7gZy8IXVwAReAP8730v0GVBgCFBEIRKIgJvkCdfkPhpgiCUznuPXeTYsUXgBdchPnj7qcYAXlY5VkrNJ1JvTRx6M4jAW0A1VhbB23jJjyyYRwRe8AxqVtRpEwQHcF10UQ+1jSLwgmdYMX+i0yYIXsZDwmwVIvAW81aXhMIX3I+4FcvAQ6dOBN4mqrCzIAiuZtSqWumhyi0CXwbynkoQ7MfrDxtO2i8CbxMvvnbYaRMEQUilCjtkhgdoKqV2A3uBR4DvA7XAo1rri5VS64GbgWSA9WO11sMW2+oprvnhA06bIAhCCk6Ng3eSogKvlAoB3wO2ERf4TwGf01rfppS6QSl1JLAMuEpr/QNbrRWqGnGJCUJpGOnBh4AbgWcS3z8DJFe4qAEGgJXAGqXU+cD3tNZ7jBw8Go2UZm3SoFDQ9L6pBAIBw/k0Noaz0tbV1RCNRmhoqC3bFmGclpaGnNvrfX6e6+orV77m5vqKHatcIpE6S+p7bW2o7Dy2rZ5OQ4nXKRKpy9pmlYYVo6jAa60HgFuUUpsT3w8CKKVOBRq11n9USq0g7rZ5CviNUup/tdZFl0uKxXpMGR2NRkzvm8ro6KjhfLq7B7LSxjr7eOzJ1+jtHSzbFmGczs7enNv7fH6e+/sqV76urr6KHatcenr6LanvAwPle43PPn4xew2sBJdKT0/20Onh4RHTZWprazac1tRLVqXU6cDHgLMTm36htX5Ma90P7AMWm8nX3WT7B+5+9ACf2XOvA7YIQvXg+VE0Dg6cL1nglVLbgI8A79BadyY236yUWqKUCgIbgCcstFEQBME1eOlVkJkwZ58FJgG/VEoBXE78xese4mW/QWt9wDILBSGBlyqW2/F4p9gk1XcHGRZ4rfVViY+/zJNkS9nWuJrqrBKCP6k+qbOmzIGACSWQiU7uYmh4hM5uWcFJEIRsvNQ4VrXA54uJfeOtT/LRr95dYWuEoshAeKEcrApF46HbsKoFPh8SZkDwO+JwNEeAACMlKryT51oEXhAEV2PVMEPLQhV4qAsvAi8IgifYs2tHWftbIswBGPGOvovAC4JQvZzRsaDkfUZLVXgZReMyxEHpSjzUcRKsxGX1sVQfvJOIwAuuQ5aTEypFqW6bADKKxnOcd+1efnP/C06bIQiCjVglzNKD9wipPcWH//LG2OenX+rMkXr8ov7dN/fZaVbV46VRCoL9WPU8l+uuKvVpMRAISA/eK5gVkjcOeSfUqq/wUMUS/Etb1Dux9Kta4FPxUqvsd8QHL9iCiUp+1MppWduOXj29pDw8FS5YyOZXv9/vtAmCT7jhM8dz6ekr7T+QtKGGaI5kr94UCASoCxtfHcrJ/ooIfIJyLkLssAQmE6yhKRImUmcmird3qQkVqXzSGJlGBD5B8ac3ucsEH+Eil2SkQmvR5iqylS/016s2y/KyChF4QXAZ8grCeT7z/iPGPkebwob2mTYp9yLaTr5TEoEXBJdRkRf+1diI5Div+cR3bnvL2OdPvndtWYd18lQbdvYppXYDe4E7gR8DTcBPtda7lVKzgBsT+X1Va/0jO4x1kjc7ZWik4CwBXOVZqRqaGrJdSM0NtfQPDDtgTWkU7cErpUJKqRuA0xKbLgJ+CGwDdiql2oEriK/N2gFcopSqs8dcaymlsjygX7PNDiGbOe3NTpsg+AwrG8fL37fewtzsw4iLJkS8d/6DxPdNwG1a61HivfnNwFpgn9Z6AHgcWGaDrSXzgH6d2x9+yWkzBBPMbGt02gTHkF56OpbFg7fQ9zWh2Xgf1sl3KkVdNAnRvkUptTmxqQXoSnzuJu6qCSYEP3VbUaLR3C8lihEKBQ3t+/WfPQrAqR2Lcv4eDATG8qmpyc4z9XtNTci0vUJhNiybyr1/enXse0tLPeFw9q1ZV6HRFk5RV19LKBSkqSm3eAQC1vnnm5u9MxuzsTFsSd2rrc0eu16f555KHq+uvpaWloas7bmor8udV2Nj9vU0qmHlYmbAbRdxAU/+3w+MpPzeBBwyklEs1mPi8PGTXMq++dKOjI6O/TY0NJKVLvX70NCwaXuFwkzM6A11dvYxMDCUla6vb7BSJjlCf98gw8MjHD7cn/N3K3v2XV3eeafU3T1gSd0bHMz2mff2ps9haayvobtvaOx4/X2DHOrsHfu9kB19/bnvz56e7Hkyw8PZemOUtjbj7kszo2juJ+5rB9gOPAA8ppTarJSqBVYB2kS+jvLEc28VfJH65IuG2izBBDmfYKvZT5Gnm+7klHc78XtwOa+tyfp14Byl1L3AnVrrl4DPA9cC9wDXa61zd0FcwtBw4oEj47668dYnK2+MIGRgp9y1JKbee6mpsMqHnasd8XvcI8MuGq31VSlfT8z4bT/x3rwneOzZNwE41C0hBlyBv+tYyZTaoZ3UUs9Bo8N4E4Lm7z6zU+S5kSUWTYVJ3N2iK96i0o/y556gKnq8JPnKGamv4YSNs7O2L507wW6TBI9SnQKfB78/rrkVt/qWt6zIDhVbCfKt6RwMwLuPWWjJMdx0xlcsmFyR4zjl65dwwQ6Rebmff7WL12K9OdMK9iHtajpeWhLOCupzDF90itRO3tGrp3PMuhkWZFp+FmbxtMA/90oXsTxDyszwxqE+rvz2PQXT7H8l13J+gmAduXqaJ2+Zy3nvcMX8QSB3nPRiqFlRGywxzqnb5peU/v0nLmFyawON9d4N3+xpgb/6+/fxxRsftDTP4XzPx8CzBzr57Pfvt/R4gpBJrg78aUfPZ9WCSWXnPWtKE/Ont9AWbSieuAA1odzSUaizOmtq7vmPyeLmE1KrXKe5wl9sWDKFqRMKn4tQMMip2+aZPq7Xhkm6iq4eE5NfTJ7xz/1AxF2wn4UzW23Luz4c4v+dcwRhm9wi5TiX/v4DR1pmh1EmRxvSokXa4aeXFZ0EQRijJRJm11nrnDZDSKWI7k+f3MiGpVPy/OqcwnvXuST4BnnJWjk2L2+3Nf9qDWn8+fM35v1NevBlkDx5IyOjvPpW7tgOo6OjHDjYnbKhAoYJPsB/N8rCGda4f0yJVp7T2bFuZknRGZ3Aq3eC5wU+yf/c+zyXX597BMxDT73Bld/5Q87fXpdhkY6TOU5YevTeZe3i0tclXbVwMl++ZKsN1hjD7vkv8pLVAgpN1e4sEJLgU9/6fd7fevuzIxoK1iOC7gynHmV+ZEg+Ftv4gthJynr5Ki6aCmPwhF/5ncJj4gV78Ns8H7sbML+3j5Usnx29eZnJ6lJihyUYWSWwyi/sVvKNGReqBOnBC9XM/Oktad/FZVM6H3nXKqdNEFxIVQi8z574qxa/uW7s5MPvXO60CWWzaflUp02whLZW55ZHlHHwglCllNNezpnazJudOeJA+fTxa257S/FEOdiza4fFlpRGVfTgM/HnLegf6lwUXdBvWPUQtGZhnhC/BR6z3PoAltom5Rsts2bRZL77qWMqZJF1+EfgDd49L73RzT/f/Ii9tghl0VAnD5YChFz2NBB0mT1GKLkmKaWuBHYmvi4DPkl8PdbkQttnJdZprQilDGsaHR3llYPlr84uCK7DC9pTYhe+tibe/7RbV8M1/n1iLFngtdbXANcopWYCNwD7gW9pra+22DbL+dFvn0LNkuXNvIpbH/FdgZwc00Qsjve+ZHaUPz8fszRPs5TjorkCuBpYCexUSt2llLrcGrNMYKCVv+3Bij1YCGUielUerY1hp02wlZ1HzLI0PyufEiL12YuhnLxlrnUHKAFTTZdSqg5QWus7lFIR4mJ/N3CzUmqT1trQFNBoNGLm8IRCwbF9A4F4PnXhmrx5RhrCY2kbfX7je5HW1vRrFo1GCIezb836HBXHTjLtMotR7airrx27t5veSo+RVKiuhMM1NDaOB+v69uXHMrm1Af79oay0rS0NRBOBvco5n5FI7nrUkGc7QDjPu5VkmQdGc6dvbKzLKv/kCenft6yaxr5HDhS0Odc5HNMR4p2KQDCQN63RvGtTBgkkt7e2pA+VTNUwOzH7bHIi8KvE57uAHq31iFLqVuJ+eUMCH4uZ84dHo5GxfUdH4/n0DwzlzbOnd2AsbXeBuDSCM8QOpV+zWKyHgYHsOEB9fSYWdymDQ4eseV9j9Gmkv2+Q4eERYrEeDmcsRVmorvQPDNHdPZ6+ZnQ0b/pDnb0wPAyUdz57enLXo9482wH6+3MfL1nmzs70Rm0gEQuqu3sgqzx9fenHefuG2UUFPjOP6z5yVJqOxD/kTluM1PSp925ye29vur3JMpuhrS17Zap8mHXRHAsko3TtBo5PfN4GPGoyT9vx4EtwwQfIBC1zhIJxecrpI8+ozGbqdkuBpw2/YFbgFwDPJz5fA+xSSt0JPKW1vs8Sy6wkpYaJyHsZ7yrl5z64wWkTssg15vuvdiy073glpm9ICPvSOTIwwiymXDRa67enfH4O6LDKIHsRdRcqTyAAM9pyLzhtSf5jf8onZGdgNO+2z56l6iY6yeOy+3Brs2vVveLW8pWFiUJJ1as8/hF4Q4zKCk6CpYSCvpRve7CgxVww3VxMGKOUtbBHArtXiCoF3wn8wOAw1/3kjwwMDo9vTDnhv3/8FQesEvzKkUum2JKvFUKTi2LSY6c2WVGieUmBd/GjuHvk3QcCn3lDvnywm0eePsjLaYtsu/dmEOxjyeyo7cdwsre266x1jh3bMTxQld1koucFfgw3NZuCK5jQXFc8kYeZ2258PHQhUmPHe6YvZFPD6ib3ihV4NmxfMV967hvVXxfPLxjRlLaoc4sm+Ilc5zpcofDMpTYexV5vXHn2eva/0sWNtz6ZN817dixk6ZwJDA1XruWyy71mBs8K/E2/fQrIluzkAreHe7NnzQ0Nj/DCa4ftNk2wgcves4a7Hy08U9Gt2FXdvdfZLO1MnLBxNpMyVkNKzWHBjFaGhkcK5rFp2VRam5x5krvg5GWOHDcVz7to8t0yX/nxH8c+P/rMm5UxRrCNKRmxR5oaKhuXxu14QetL7djWh2vYtmq6PcZkYEcjPNPGuQ9G8bzAG+Hhv7zhtAmCBaQKhNEXqGd2LLDVF++9XvQ4lfYkOOG4cIuzxCmvjWcFPutliFuupOAqTtw0x/QKUbU1QY5bP7NgGiP6bl8bYE3OFWujrKyjLvJz58MNbb9nBT75IsMNJ1FwN2bvkUAgwJnHWBCbxYQBlR7NsWPdDNuPMepAL8xoO2DH2XZDE+RZgReESlATKlz13VCJy2UUeN/xqqR9Ak53rbzsG6sgnhX4zB7Oswc6HbJE8DLF3DeBQIDNy9srZM04RobaJatAJbUuXBvkxI2zze1sRWtoc4t6hGqz9wAVxpMCPzQ8wpMvJNY8TNzd+1/pAuAvLx1yyiyhDN5/4hJHjutUP9AN/U8zWrl87kRTbqvamiDvcGjZulKIWjCk0k2TpTwp8L/63bM5x7kDBSc9CO7l6NWVGQ4nZFMJObry7PW0T4xUZ3gFB/GkwHf3ZS/nJliDXcGz8tHaFKauQjMp7cD0YA73dPLSevKBQHG3lZdw06xSJ/CkwKfWjU5ZY9VSLjp1RUWP95VLj6LGzkUmXIAbBHPVgklZ2/K1MRefZvweqK0xf+0a6kpv2J0YiWMFqV6bYyowYimJJ2tWpour2HRlwR+U3hmzqptcnqjU5AiqUulRKNtzuMC8KZXup9hTw9kljlgqB1NdC6XUc8Czia9/D1wONAE/1Vrvtsg2oYqx5sna3xKW7OiUe65KaWqsfYFYfl7tkxqB8l+O+vVOKbkHr5SaA+zVWndorTuATcAPgW3ATqWU7WPK3PSWWvAnx6w19hidvBWnTowUTihYQqYQtzaG2bNrR143WGbjN7Ot0R7Dch57NOVzxQ6bhpke/EpgpVLqTuBBYA5widZ6NLFtM/AzIxlFo+YqRTBD4M3mI2RT6XOZ63jRaIRwOJS1rb5+/HatDRe/dcPhGqLRCMECPv58nYVwXc2YbeECx0r+lrl03+aV0xgYHOaBP79GIBjMKmcgAIzGG4ZX3+wBoK6+llAonrbpzfRw2DnPU+u4fY0pPdhcaZcumAxAe1szdYlzW18fD9jW2FQ3tk9DQ5imxvy94draENFohEgknPP3hobc25ubG+Llemu8XMlTnyzzQIYI5ipHXeJ8N9TXGrpXW1obiEYbxr7/y2XHcPquX+bNP3lOSq0HqemT90SyzAD1KcHxotHIWJntxozAvw58Tmv9c6XUdcApwDmJ37qJu2oMEYv1mDh8to/r0CFz+QjZmL0mVh4vFuthYGA4a1tfyuipZbOj/L5I+OCBgSFisR5GRvK/o8nnLx3oHxqzbWAg/6it5G/DI+n5XPCOpQCcd+1eRkdG857X4ZT3R/19gwwPjxCL9XD4cF9aulz7HzrUO2ZD9+H+gmnrQwH27NpBb08/vYmf+/riQ427D/eP7dPbO8Dh7vyyMDg4TCzWQ29vfHBD5ulLbs+kq6uXWKyGwyl2JvdNlrmzM71Ry1WO/sT57u0bNHSvHjrUQ20eB0yu/ZPnpNR6kJp+MLFcaLLMAH0pw7pjsR6i0YjputbWZnyhFzMvWR8Bfp34fAvwK8ZFvQmwfaZR32B65Xd82rRQERbPah37vHXlNAN72HNfLJ5V/lKAVnsZc+U3b1qxBao96HkuYPK0SRb0iH0mJWYE/mPABxOfjwbuBToS37cDD5RvVmEGMwTebxdFyM2qhJuhVArdHmsXlZ7nrrPWpS1z5xhF7vtPn3uEsWwK5GN1THM7x6Vfc8GmbHs92IZZiRmB/zrwTqXU7cAE4JvAOUqpe4E7tdYvWWifIJRB8dr9ro4F7Nm1o0gq63sQkYSvd1KLtUsRfuniLZbm5/XxDCXruwUNwqwpzi/0kaRkH7zW+hBwYsbmzO/24vW7TjDNxJY63uzsL54wBTd24poaatl96VZ+eItGJ+MquZDMDney5iVHDa1eOImLTl3BxV++g4Eh++ejuPFapvLdTx3Dswc6+fndzxZPXAGcn2InCCVgddOe12OQdiB7ZCVzNFipJPe2q79TyL6FM1r5xsePJlwTIhgIuFZ4c9kVCgayXopbRbnX1Gq8OZM14/v5X7zNETsEY3zrsu0OHTmQ8rdEyqj/555QfKaiG2RgvHEbtybVrs+dv6Hg/vXhGoKJ4aHmXOtubRb8gzcF3g21QzBM2MPBxMxQSnmtfudoJr/U+pS6e6ikGEGVEeuSR8o4MMMouSB8xAUxiDwp8O7o/whOYHV1LbWzcM0FG4umqVQEw9RJWknXwIjFxzZ6fswdtvR6fGyRNXLNMn96sSGlxpk6IcJXLt3K5JQJVk7hfBMjCLaRVB3rOgT1GbNac+VsROwsb6iC9gi820g2ZBMMxp7KTbWJAAAR8klEQVQxejY++d61DA6NsPeBF01alk5rhn1OXRVP9uDFRSPkIxQMGOpl28lIgRd45YTXLcRYD96ml4dj5Kl7lWxXrr1wE1tXGgx5ZdCuutrQmGvFT3hS4P/7rmecNkGwiZbG3LFMSmHapGRAqdJ7Al/76NFlHz9TU1I7JNGmePms7qMkQ+HYLvAueECYMiGSN4aQdP7SEReN4Bq+dPGWoj3cYvW3VBdFapCwpXMmEKkvv0oUElmj5tWFS3sxHQrGz5vV+m7U3lwLcaxZOJmH//KGtQaViN8XkylGdZdesIWTtszJuX3l/OxVhVKZ2FJPc54ohYYpQeCuPGd9+cfL0eKUKs65mNvewpXnrDduRqImW9KDH837xeA+cWZUMDTvmBkZdkxqtXamsNcQgfcJS2aXFwBrvWqzyBKorcktcDUh+5+fc8lRvuMumN6ac3uhPLNcABkH3HXWOjYum5o3r8Z6435eo/YB1CXOeTDH6lFmKWUWgQs8N5bgl3IkEYH3CZNbyxuSNWeq8RCkAHPaS0vvBEkxnjKhzOFqJdT6xbOieWczXv6+dbx7x8KEceWZlMnMKU1c9p41JcVBSdqZa0nBJOLT9jYi8FXIx969uuw8pk+q/ON3qbhtxOCimVHqLXDf5GP5vIklpU+6LxYVCH/84muH0zeUIPjSODiPCHwVkssXbldlLPXJIBeXnr5y7HPFNDvP+bD+NLmsFcrAqHV1JmYri/7bj+dG0RxOWRlFSKHitaVA1U/pOgfL7EIEArBusXXvB6zCTUGlguWe5BTMluqq846kq2eQZ15KXe/HPeeoWvFcD/6uR1522gSBUvqd9lZypyRk7eLJfODEJXkXe85Hsu0rx+7UhaM//M7lnLF9fhm5WcPUCREWzkh/KSzyPo6F775LO64zhxUqTdimGZRTisTbMN/RNdaEFEqV69jnvC1/pEdDMWQSmYaCQbatnl48ff6MMv4bJ3Vs94alU8cWD/EaLnoIsp3j1s9y5Lgi8B7mvcctMpx20/L8Q/fKIWeQppSaa2cd/tApyzj/pKUl7dOxdkbuvE5exvknLbPCLCFBNQj41IkRrji7+HyF5NyIRgsm0pWC53zwwjhWRsCzgw+cuMSSBarzsWlZO/r5t9K2pU4OyuyQH39k/l7UpuX5Y5sks5nUUkdzpLTe8gUnLSsydNHdL1kzMarZl56+kudf7bLVFjegZrVmuabcRMkCr5RqAW4CIsDrwKXAw4BOJDlL1mW1n7dtcOaRzxAJZU11YZzRsYD1qo2HnrJ36nqhyUFtZYZvPeWoeSW/XN28wmBQLJ+xbnGbowK/cdlUppY7/6EIp26bx9YV00raJ18MHbsw04O/EPiJ1vp7SqnPAh8GvqW1vtpa04RCvGv7Ap5zsAJ1rJnBPY+/ajj92zflDl9QSTYsneK0CZZw7glLeORpZ2O8GCEpZltXtKcEgKsMrY1hTt1m78vnU7bOszV/KzAj8NcDyVWPa4CDwJlKqeOAX2utv2A0o2i0xNVZgIb68qMNupEV8yfx2DMHDaefPKmJg93jQ0bffZzi7kcO5E0fToljnuu81yfOq9FrMnt6KydunsMJm+Zyz5/iQh+uDTIwOFJSXvnSJO0NBAJpaZI96OS21ZEwG5e386dnD9LVM5iWtq6uhmg0MpbXrOnp7qJC9tWFa8Z+r0+MlNm+fnZWtMu6xG/JoGXFytzcFa86NTXBNNsA6uprCYWCOfNI3RaNRli9xNg7lQtPXUlTpDZnnpHI+HVKvrhtiIRZt6ydTcvbmTdrAvXhEH0Dw2P71Kacl1w0NIzn2ZB4+XvZ+44Y+73pzd6xz8kGIFnmgQxvlRl9uPiMVVzxzX3U1eUuc7H86xM2mzm2EUKh+P2c7zpbTckCr7XuBFBKbQS2A9cCVwB3AzcrpTZpre8xklcs1lPq4entGyh5Hy8wNDRcPFEKsVgPh7v6xr43hQu/Lx8YGErbN5O+xHmNxXp41/b5PPdKF9MnN/Lfv9uflXbpnAmERkc5c/uCtO1vO3I2v9i3Py0vI+UoaO9oeprkYsmp2y48eRkf/9rdWdsHBoaIxXrG8so8ViH7+hP7AgwOxq/NyOAQsdhQerr+obx25aIrIfDDwyNptgH09w2Obc/ETF0B2LikLe/+PT3j1ykp8L09A/T3DvChk5dxuKuP2VOaePLF8bHtgynnJRe9veN59vUNZh378OHxezY5ailZ5s7OXlIxU+b2xOzc/v7Bovvn+n39wkno/ZNNn+9ijCbu52g0YvoYbW3GJw+aesmqlNoKXAe8E+gEerTWI0qpW4FlgCGBF5ylsb6G7r6hrO3v2Dx37HMugf/ke9faaJW/SYbVTXpid6ybSezwAI88bfzpraKU4zN2aBTNinkTTQ9hnRxt4CNnrLLYonEqfUpKHiaplFpMXNxP1lq/DOwGjk/8vA141DrzcuCtQQcF2VrmC7hyTsWC6S1sKfEFUTGSWuCWS1TJWDRnbF/ApgJRJPMxe2ozHz2z/NhAFcMDYx8//p41zJjs0lhJFT59ZsbBXw5EgZuUUrcDvwN2KaXuBJ7SWt9noX1ZuEU8rCDg1PQ24MpzjmDmlMpXgtULCseEz8QJPZk1pank0RHrVRsfOmW58R3cr5NlU6yIpQZHs4qzdi42vuSfhRy5ZApnZLg17caMD/4DOTb/wAJbqo5UfTfS2zzuiJn85v7sRYGLLaThJv72zNVc+KXbGRwasf1Y+RqHnUfMIlQgNv3V522wySJ3U1cbYuncdNFNnqWlcybwxHNvZe9UiAKt8zUXbGTfY6+UaKE1dKydkXfCm51cdOqKih/TczNZS77JXEypY6r/+rjFad+T43wvPKX4DMyNy+zvsaxeOLmkRaXnTXMmpvx7j1vEu49ZaDj95uXtlqwV63a+edl22iemj+xI3qKnHW39kMO1i9rSQmgkV9c6Zu0M1iycbPnxqhHPCXy3j6JJFpr08LWPbgNgdsYsyNULJnHCxtlAvELs2bVjLBbJlhXtHLVq3LWQutDF0jkTLLM7H/OmtXD9JzoMp//0uUfm/W3D0rg/+6Qtc8u0qnyWz5vIdX9zlO3HWV1hUVs0Mz4prNAqUJNa4qNSisUcykWx7sv86S18K+V+qasNsWfXDs5+m7L1RWc14TmBr/RMMDsJBgIcU+RR8e2b57Bj3Xiavz1zdd7e5/knLeO8t4/HZrn0tJU509nNsrnl+1ZXL5zMT689iXce5f7JJGZYtyg9BPKeXTtsDeuQi2mTGtmza0fBJ8lk58HME4yPqqpn8VwsGgffS1rOygUTWTwrym0PvcT2tdPRL8RShi5aU9A9u3ZYkk8pLJzRWvHjdqyZwR1/TA8l7cbH/MmJHnHHusr7gM2QKdKl3JVqlv1PjUJhPCfwTo48sZJUAUx+3rSsna/+5yM89NQbY77sGZMbefKFmKljtDQZ73VVMmDS0aun8+CTr5vad+vKdn77QHaoo1OOmscpKb19Jxo2I7Q21bnWNiuYn3IfLZxZ+YZeSMdzLho7OWKJuVglqQswpGLm5l6ZGEZYWxNkz64dzGhrIlBib37F/InMntpES8S4wKvZE3Lam/kOwArO2rmYL1+y1dS+px+9gK9/7OiS9nFqOJ4V7Nm1w1GRLNXN4sTTm5Afzwn86Ih9I+EXzWjl2HUz07adtKVwkKx//dQxWaNbYFzcZ+QR/3x0rJlRdgX5+LvXcNUHsof65RvhUmjd1KvO28C7XLBiUDlsWzVdREeoSjwn8Eb1ffua+FTlqRPLC+hz+tELWLto3JebSyiSvZyaUICZbY1MT5lFN689HrP9ix/ePLbvX5ewUIeV5FvbNDWGulAabo/JXy7zpllbvgnNdQA0enQVKq/hOR98Q52x1dvPPWEJdzz8Mqdtm8e3fv44x6ybwW0PFg5TP21yhKaGWn77YPr2hTNbeeipN1iVcJ9Em8I0R8J85v1HxKMdNsVv2n+6aAvNGaMNjt8wi7sfPZC2kss0h6ZRf+jkZVyQsmpRcsxzsfH4M9qsd9P4hU3L2znSJ2GIc7Fh6VTWq/GOQbkN2pQJEb7zdx2ELFwoXMiP5wQ+vmjD+GSnK963nn/4twfGvs+a0sSBg90AXP+J7dTWhFi3uI1gMEBP3xB/SIS2/fYnO/jQP90OwBc+tInmSJhIfQ2jo6OMjI7yr796gm9/sgOAEzbM5ie3Pc2CxM39jxdtIRBg7CadOjEydqxMZrY1pf2WL10hZk21RmADgUCaT3XRzCjXf2J7wXHQEB+N8rWPHk19XYjh4exHqMmt9WPRFKsRv4tVsnzXf6KDmgIzgEvNT7Afzwn8EUumcMfD8eFwE5rrWDgzffTHp889YiwMaVJIk6FQzz9pKd19gzz2zJvUhIJMmxThwMEeGhtqidSPxx/funIa6xa3je0XCAT4xsePJlybnl8qhUQ79bdSxR1g26pp7Nw0l/5e60MlG7UneX6CNdkV/JoLNllqk+BOSpmlLLiDgKGV5O1h9PXXza1IFArX0HO4n2AwLlCf+MbviHUN8M9/e1RR397Q8AiDQyM01NUwNDxCrKufyWUu5VYJyokf7VWkzNWBlLk0EvHgDT1Kea4HD/Ep+sMpCyVcc/4mRkZHaagrXpyaUHCsB14TCnpC3AVBEMzgSYHPpC5cuttDEATB74hTTRAEwaeIwAuCIPgUEXhBEASfYokPXilVA9wITAfu1VpfZkW+giAIgnms6sG/C3hEa70NiCql8q/kIAiCIFQEqwR+E3Bb4vNvAPuXvxEEQRAKYtUwyRYgOWupGzA0tz4aNRcILBQKmt7Xq0iZqwMpc3VQqTJbJfBdjIt6E3DIyE5mZ3LJzLfqQMpcHUiZSyMxk9UQVgn8/UAH8HtgB/BdIzuVYqiV+3oVKXN1IGWuDipRZkti0SilwsAPgdnAH7XWHy47U0EQBKEsnAw2JgiCINiITHQSBEHwKSLwgiAIPkUEXhAEwaeIwAuCIPgUEXhBEASfIgIvCILgUzy1opNfo1YqpVqAm4AI8DpwPvAfxGcF/1RrvVspNYt42WuAr2qtf6SUWgN8ExgFrtBa3+6E/WZRSh0HXAi8l4zrmjgnP6bIOXDIdFMopQLAvwBrgT7gr4Cv49NyK6XqgZuBKPAA8GkMlM0H9/VuYC9wJybLq5TaCVxD/D65SGv9uBlbvNaD92vUyguBn2itO4AngA8Tnzi2DdiplGoHrgAuJz5j+BKlVB3weeA9wInAZytvtnmUUkHgKuKLB+e6rhdh7Bx4iXcA/Vrro4AvAx/E3+U+AXg8Ud4ZwMfw8X2tlAoppW4ATktsMnotc5X3KuBY4BzgH8za5DWB92vUyuuBf098rgF2AbdprUeJ9wI2E+/17dNaDwCPA8uANq3181rrQ0CvUmpC5U03zQeBXyc+57qumzB2DrzE0cCoUupW4O1AO/4u95+AmsSTSwNxUfPzfR0i3jv/QeK70WuZWd45QLfWuktrvZ/4E54pvCbwpqJWuh2tdafWul8ptRHYDjxIdjmDiRsldVsgJRvPnA+lVDNwMpB0NeS6rrm25ToHXmIi0KC13gn0Aqfi73IPEO+V/hkYTmzz7X2ttR7QWt+Sssnotcws70jKfmXhNYE3FbXSCyiltgJfA84kdzlHUpInt6XGmWgEOu231BJ2Af/EuP25ymv0HHiJt4j7Zkn8/xX+LvdHgN1aawX8AdiIv+/rTMzW4yDpjdowJvGawCejVkI8auW9zpliHUqpxcB1wMla65dJL+d24i+oHlNKbVZK1QKrAA28qZSapZRqBZoTj3heYCvwOeIvlrcTF76OxG/J62r0HHiJe4mXD+DIxPeOxHc/lruL8cboVeBa/H1fZ2K2Hj8HtCilmpVSc4GDZg3wmsD/GFijlPo9MKS1vsdpgyzicuIjDW5SSt1O3Dd3jlLqXuBOrfVLxF/EXAvcA1yvte4HriR+TvbioZdRWuuOxAvlvwLuAL5A9nX9OsbOgZf4GdCYKOdq4iOl/Fzufwber5S6A3gncd+0b+/rHBi9lrnKexXx9zI/IT76yBQSTVIQBMGneK0HLwiCIBhEBF4QBMGniMALgiD4FBF4QRAEnyICLwiC4FNE4AVBEHyKCLwgCIJP+T8X6j6NTkQ+ogAAAABJRU5ErkJggg==\n",
=======
      "image/png": "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\n",
>>>>>>> 1ec6d262c6e570d519a2d18558ba5fcf10889b73
      "text/plain": [
       "<Figure size 432x288 with 1 Axes>"
      ]
     },
     "metadata": {
      "needs_background": "light"
     },
     "output_type": "display_data"
    }
   ],
   "source": [
    "# Rewards\n",
    "sns.lineplot(range(len(rewards)), rewards)"
   ]
  },
  {
   "cell_type": "markdown",
   "metadata": {},
   "source": [
    "## Epsilon Decay\n",
    "\n",
    "How the epsilon value decays with the number of epsiodes."
   ]
  },
  {
   "cell_type": "code",
<<<<<<< HEAD
   "execution_count": 11,
=======
   "execution_count": 13,
>>>>>>> 1ec6d262c6e570d519a2d18558ba5fcf10889b73
   "metadata": {},
   "outputs": [
    {
     "data": {
      "text/plain": [
<<<<<<< HEAD
       "<matplotlib.axes._subplots.AxesSubplot at 0x291018a5f98>"
      ]
     },
     "execution_count": 11,
=======
       "<matplotlib.axes._subplots.AxesSubplot at 0x7f1b01b02a20>"
      ]
     },
     "execution_count": 13,
>>>>>>> 1ec6d262c6e570d519a2d18558ba5fcf10889b73
     "metadata": {},
     "output_type": "execute_result"
    },
    {
     "data": {
      "image/png": "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\n",
      "text/plain": [
       "<Figure size 432x288 with 1 Axes>"
      ]
     },
     "metadata": {
      "needs_background": "light"
     },
     "output_type": "display_data"
    }
   ],
   "source": [
    "# Rewards\n",
    "x = np.arange(1, total_episodes)\n",
    "y = min_epsilon + (max_epsilon - min_epsilon)*np.exp(-decay_rate*x) \n",
    "sns.lineplot(x, y)"
   ]
  },
  {
   "cell_type": "code",
   "execution_count": null,
   "metadata": {},
   "outputs": [],
   "source": []
  }
 ],
 "metadata": {
  "kernelspec": {
   "display_name": "Python 3",
   "language": "python",
   "name": "python3"
  },
  "language_info": {
   "codemirror_mode": {
    "name": "ipython",
    "version": 3
   },
   "file_extension": ".py",
   "mimetype": "text/x-python",
   "name": "python",
   "nbconvert_exporter": "python",
   "pygments_lexer": "ipython3",
   "version": "3.7.3"
  }
 },
 "nbformat": 4,
 "nbformat_minor": 2
}
